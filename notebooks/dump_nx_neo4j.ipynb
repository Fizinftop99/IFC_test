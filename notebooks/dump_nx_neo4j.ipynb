{
 "cells": [
  {
   "cell_type": "code",
   "execution_count": 1,
   "id": "f9fce2a2",
   "metadata": {
    "ExecuteTime": {
     "start_time": "2023-10-29T22:42:12.428845Z",
     "end_time": "2023-10-29T22:42:17.995415Z"
    }
   },
   "outputs": [],
   "source": [
    "import networkx as nx\n",
    "import pandas as pd\n",
    "import pickle\n",
    "import math\n",
    "from neo4j import GraphDatabase, Transaction"
   ]
  },
  {
   "cell_type": "code",
   "execution_count": 23,
   "outputs": [],
   "source": [
    "from src.ifc_to_nx_explorer import IfcToNxExplorer"
   ],
   "metadata": {
    "collapsed": false,
    "ExecuteTime": {
     "start_time": "2023-10-29T19:30:03.618876Z",
     "end_time": "2023-10-29T19:30:04.121143Z"
    }
   }
  },
  {
   "cell_type": "code",
   "execution_count": 25,
   "outputs": [
    {
     "data": {
      "text/plain": "[<Node element_id='4:246cdb52-7a29-4bfb-88de-dcab67f07ec3:0' labels=frozenset({'Rest'}) properties={'name': 'Evening'}>]"
     },
     "execution_count": 25,
     "metadata": {},
     "output_type": "execute_result"
    }
   ],
   "source": [
    "with GraphDatabase.driver(\n",
    "        \"bolt://localhost:7688\",\n",
    "        auth=(\"neo4j\", \"23109900\")) as driver:\n",
    "    driver.verify_connectivity()\n",
    "    val = driver.session().run(\"match (n) return n;\").value()\n",
    "val"
   ],
   "metadata": {
    "collapsed": false,
    "ExecuteTime": {
     "start_time": "2023-10-30T10:15:41.418513Z",
     "end_time": "2023-10-30T10:15:41.547570Z"
    }
   }
  },
  {
   "cell_type": "code",
   "execution_count": 2,
   "outputs": [
    {
     "data": {
      "text/plain": "[<Node element_id='4:f2cab372-6b02-4aac-b4b8-2574ddf13184:0' labels=frozenset({'Work'}) properties={'name': 'VK'}>]"
     },
     "execution_count": 2,
     "metadata": {},
     "output_type": "execute_result"
    }
   ],
   "source": [
    "with GraphDatabase.driver(\n",
    "        \"bolt://localhost:7687\",\n",
    "        auth=(\"neo4j\", \"23109900\")) as driver:\n",
    "    driver.verify_connectivity()\n",
    "    val = driver.session().run(\"match (n) return n;\").value()\n",
    "val"
   ],
   "metadata": {
    "collapsed": false,
    "ExecuteTime": {
     "start_time": "2023-10-29T22:42:44.413222Z",
     "end_time": "2023-10-29T22:42:44.529380Z"
    }
   }
  },
  {
   "cell_type": "code",
   "execution_count": 26,
   "outputs": [
    {
     "data": {
      "text/plain": "'C:\\\\Users\\\\naumo\\\\PycharmProjects\\\\IFC_test\\\\notebooks'"
     },
     "execution_count": 26,
     "metadata": {},
     "output_type": "execute_result"
    }
   ],
   "source": [
    "import os\n",
    "os.getcwd()"
   ],
   "metadata": {
    "collapsed": false,
    "ExecuteTime": {
     "start_time": "2023-10-30T10:15:59.927346Z",
     "end_time": "2023-10-30T10:15:59.971543Z"
    }
   }
  },
  {
   "cell_type": "code",
   "execution_count": 15,
   "outputs": [],
   "source": [
    "G = pickle.load(open('../src/new_AR.pickle', 'rb'))"
   ],
   "metadata": {
    "collapsed": false,
    "ExecuteTime": {
     "start_time": "2023-10-29T23:04:38.659526Z",
     "end_time": "2023-10-29T23:04:39.068360Z"
    }
   }
  },
  {
   "cell_type": "code",
   "execution_count": 8,
   "id": "2ed4cb93",
   "metadata": {
    "ExecuteTime": {
     "start_time": "2023-10-12T21:37:41.014454Z",
     "end_time": "2023-10-12T21:37:41.280524Z"
    }
   },
   "outputs": [],
   "source": [
    "G = pickle.load(open('G_coord.pickle', 'rb'))"
   ]
  },
  {
   "cell_type": "code",
   "execution_count": 28,
   "outputs": [],
   "source": [
    "group_driver = GraphDatabase.driver(\n",
    "    \"bolt://localhost:7688\",\n",
    "    auth=(\"neo4j\", \"23109900\")\n",
    ")\n",
    "group_driver.verify_connectivity()"
   ],
   "metadata": {
    "collapsed": false,
    "ExecuteTime": {
     "start_time": "2023-10-30T10:20:37.376296Z",
     "end_time": "2023-10-30T10:20:37.414952Z"
    }
   }
  },
  {
   "cell_type": "code",
   "execution_count": 101,
   "outputs": [],
   "source": [
    "# def add_node(tx: Transaction, id_, stor_id_, type_, name, coords,):\n",
    "#     q_create = \"CREATE (a:Element {id: $id, stor_id: $stor_id, type: $type, name: $name, coordinates: $crd})\"\n",
    "#     tx.run(q_create, id=str(id_), stor_id=stor_id_, type=type_, name=name, crd=coords)\n",
    "def add_node(tx: Transaction, id_, stor_id_, props_):\n",
    "    q = \"\"\"\n",
    "    CREATE (n:Element)\n",
    "    SET n = $props\n",
    "    SET n.id = $id\n",
    "    SET n.stor_id = $stor_id\n",
    "    \"\"\"\n",
    "    tx.run(q, id=str(id_), stor_id=str(stor_id_), props=props_)\n",
    "\n",
    "def add_edge(tx: Transaction, n, m):\n",
    "    q_edge = '''\n",
    "    MATCH (a:Element) WHERE a.id = $id1\n",
    "    MATCH (b:Element) WHERE b.id = $id2\n",
    "    MERGE (a)-[r:CONTAINS]->(b)\n",
    "    '''\n",
    "    tx.run(q_edge, id1=str(n), id2=str(m))\n",
    "\n",
    "def add_ifc_class(tx: Transaction, storey_id, class_id, class_name):\n",
    "    q_class = '''\n",
    "    MATCH (s:Element) WHERE s.id = $s_id\n",
    "    MERGE (s)-[r:CONTAINS]->(:IfcClass {id: $id, name: $name})\n",
    "    '''\n",
    "    tx.run(q_class, s_id=str(storey_id), id=str(class_id), name=class_name)\n",
    "\n",
    "def add_el_to_class(tx: Transaction, class_id, element_id):\n",
    "    q_cls_el = '''\n",
    "    MATCH (c:IfcClass) WHERE c.id = $cls_id\n",
    "    MATCH (e:Element) WHERE e.id = $el_id\n",
    "    MERGE (c)-[:CONSISTS_OF]->(e)\n",
    "    '''\n",
    "    tx.run(q_cls_el, cls_id=str(class_id), el_id=str(element_id))\n",
    "\n",
    "def traverse(tx:Transaction, id1, id2):\n",
    "    q_traverse = '''\n",
    "    MATCH (a:Element) WHERE a.id = $id1\n",
    "    MATCH (b:Element) WHERE b.id = $id2\n",
    "    MERGE (a)-[:TRAVERSE]->(b)\n",
    "    '''\n",
    "    tx.run(q_traverse, id1=str(id1), id2=str(id2))\n",
    "\n",
    "def add_class_rel(tx: Transaction, pred_name: str, flw_name: str):\n",
    "    q_rel = '''\n",
    "    MATCH (a:IfcClass) WHERE a.name = $name1\n",
    "    MATCH (b:IfcClass) WHERE b.name = $name2\n",
    "    MERGE (a)-[r:FOLLOWS]->(b)\n",
    "    '''\n",
    "    tx.run(q_rel, name1=pred_name, name2=flw_name)"
   ],
   "metadata": {
    "collapsed": false,
    "ExecuteTime": {
     "start_time": "2023-10-31T16:11:35.492259Z",
     "end_time": "2023-10-31T16:11:35.514802Z"
    }
   }
  },
  {
   "cell_type": "code",
   "execution_count": 145,
   "outputs": [],
   "source": [
    "classes = (\n",
    "    'IfcWall',\n",
    "    # 'IfcDoor',\n",
    "    'IfcBuildingElementProxy',\n",
    "    # 'IfcWindow',\n",
    "    'IfcSlab',\n",
    "    \"IfcFlowTerminal\",\n",
    "    \"IfcFurniture\",\n",
    "    'IfcCurtainWall',)\n",
    "# Create group data\n",
    "def add_class(tx: Transaction, class_name: str):\n",
    "    q_class = '''\n",
    "    MERGE (n:IfcClass {name: $name})\n",
    "    '''\n",
    "    tx.run(q_class, name=class_name)\n",
    "\n",
    "with group_driver.session() as session:\n",
    "    session.run('MATCH (n) DETACH DELETE n')\n",
    "    for i in classes:\n",
    "        session.execute_write(add_class, i)\n",
    "\n",
    "    session.execute_write(add_class_rel, 'IfcBuildingElementProxy', 'IfcWall')\n",
    "    session.execute_write(add_class_rel, 'IfcBuildingElementProxy', 'IfcSlab')\n",
    "    session.execute_write(add_class_rel, 'IfcWall', 'IfcWindow')\n",
    "    session.execute_write(add_class_rel, 'IfcWall', \"IfcFlowTerminal\")\n",
    "    session.execute_write(add_class_rel, 'IfcWall', 'IfcCurtainWall')\n",
    "    session.execute_write(add_class_rel, 'IfcWall', \"IfcFurniture\")\n",
    "    session.execute_write(add_class_rel, 'IfcBuildingElementProxy', 'IfcDoor')\n",
    "    session.execute_write(add_class_rel, 'IfcDoor', 'IfcWindow')"
   ],
   "metadata": {
    "collapsed": false
   }
  },
  {
   "cell_type": "code",
   "execution_count": 73,
   "outputs": [],
   "source": [
    "element_driver = GraphDatabase.driver(\n",
    "    \"bolt://localhost:7687\",\n",
    "    auth=(\"neo4j\", \"23109900\")\n",
    ")\n",
    "element_driver.verify_connectivity()\n",
    "# element_driver.verify_authentication()"
   ],
   "metadata": {
    "collapsed": false
   }
  },
  {
   "cell_type": "code",
   "execution_count": 154,
   "outputs": [
    {
     "name": "stdout",
     "output_type": "stream",
     "text": [
      "163 IfcBuildingElementProxy 2349858 IfcWall 2161316\n",
      "<class 'str'>\n",
      "MATCH (a:Element) WHERE a.id = '2349858'\n",
      "        MATCH (b:Element) WHERE b.id = '2161316'\n",
      "        MERGE (a)-[r:TRAVERSE]->(b)\n",
      "        \n",
      "169 IfcBuildingElementProxy 2349337 IfcWall 719728\n",
      "<class 'str'>\n",
      "MATCH (a:Element) WHERE a.id = '2349337'\n",
      "        MATCH (b:Element) WHERE b.id = '719728'\n",
      "        MERGE (a)-[r:TRAVERSE]->(b)\n",
      "        \n",
      "175 IfcBuildingElementProxy 2316551 IfcWall 749004\n",
      "<class 'str'>\n",
      "MATCH (a:Element) WHERE a.id = '2316551'\n",
      "        MATCH (b:Element) WHERE b.id = '749004'\n",
      "        MERGE (a)-[r:TRAVERSE]->(b)\n",
      "        \n",
      "179 IfcBuildingElementProxy 3198133 IfcSlab 702965\n",
      "<class 'str'>\n",
      "MATCH (a:Element) WHERE a.id = '3198133'\n",
      "        MATCH (b:Element) WHERE b.id = '702965'\n",
      "        MERGE (a)-[r:TRAVERSE]->(b)\n",
      "        \n",
      "179 IfcBuildingElementProxy 3198133 IfcWall 764843\n",
      "<class 'str'>\n",
      "MATCH (a:Element) WHERE a.id = '3198133'\n",
      "        MATCH (b:Element) WHERE b.id = '764843'\n",
      "        MERGE (a)-[r:TRAVERSE]->(b)\n",
      "        \n",
      "179 IfcBuildingElementProxy 3198133 IfcSlab 702965\n",
      "<class 'str'>\n",
      "MATCH (a:Element) WHERE a.id = '3198133'\n",
      "        MATCH (b:Element) WHERE b.id = '702965'\n",
      "        MERGE (a)-[r:TRAVERSE]->(b)\n",
      "        \n",
      "179 IfcWall 2352000 IfcFlowTerminal 1345382\n",
      "<class 'str'>\n",
      "MATCH (a:Element) WHERE a.id = '2352000'\n",
      "        MATCH (b:Element) WHERE b.id = '1345382'\n",
      "        MERGE (a)-[r:TRAVERSE]->(b)\n",
      "        \n",
      "179 IfcBuildingElementProxy 3198133 IfcWall 764843\n",
      "<class 'str'>\n",
      "MATCH (a:Element) WHERE a.id = '3198133'\n",
      "        MATCH (b:Element) WHERE b.id = '764843'\n",
      "        MERGE (a)-[r:TRAVERSE]->(b)\n",
      "        \n",
      "179 IfcBuildingElementProxy 3198133 IfcSlab 702965\n",
      "<class 'str'>\n",
      "MATCH (a:Element) WHERE a.id = '3198133'\n",
      "        MATCH (b:Element) WHERE b.id = '702965'\n",
      "        MERGE (a)-[r:TRAVERSE]->(b)\n",
      "        \n",
      "179 IfcWall 2352000 IfcFlowTerminal 1345382\n",
      "<class 'str'>\n",
      "MATCH (a:Element) WHERE a.id = '2352000'\n",
      "        MATCH (b:Element) WHERE b.id = '1345382'\n",
      "        MERGE (a)-[r:TRAVERSE]->(b)\n",
      "        \n",
      "179 IfcWall 2352000 IfcFurniture 3219822\n",
      "<class 'str'>\n",
      "MATCH (a:Element) WHERE a.id = '2352000'\n",
      "        MATCH (b:Element) WHERE b.id = '3219822'\n",
      "        MERGE (a)-[r:TRAVERSE]->(b)\n",
      "        \n"
     ]
    }
   ],
   "source": [
    "with element_driver.session(database=\"neo4j\") as session:\n",
    "    session.run('MATCH (n) DETACH DELETE n')\n",
    "\n",
    "    build_id = [node for node, data in G.nodes(data=True) if data.get('is_a') == 'IfcBuilding'][0]\n",
    "    # print(build_id)\n",
    "    session.execute_write(add_node, build_id, None, G.nodes[build_id])\n",
    "                          # None,\n",
    "                          # G.nodes[build_id].get('is_a', None),\n",
    "                          # G.nodes[build_id].get('name', None),\n",
    "                          # G.nodes[build_id].get(\"coordinates\", 0),\n",
    "                          # )\n",
    "\n",
    "    k = 0\n",
    "    for stor_id in G.successors(build_id):\n",
    "        k += 1\n",
    "        data = G.nodes[stor_id]\n",
    "        if data.get('is_a') != 'IfcBuildingStorey':\n",
    "            continue\n",
    "\n",
    "        session.execute_write(add_node, stor_id, None, data)\n",
    "                              # None, data['is_a'], data['name'], data['coordinates'])\n",
    "        session.execute_write(add_edge, build_id, stor_id)\n",
    "\n",
    "\n",
    "        contained_classes = set(G.nodes[i]['is_a'] for i in list(filter(\n",
    "                lambda el_id: G.nodes[el_id][\"coordinates\"],\n",
    "                G.successors(stor_id))\n",
    "            ))\n",
    "        cls_to_id = dict()\n",
    "        for j, cls_name in enumerate(contained_classes):\n",
    "            cls_to_id[cls_name] = str(stor_id) + '_' + str(j)\n",
    "            session.execute_write(add_ifc_class, stor_id, cls_to_id[cls_name], cls_name)\n",
    "\n",
    "        for cls in contained_classes:\n",
    "            elements = list(filter(\n",
    "                lambda el_id: G.nodes[el_id][\"is_a\"] == cls and G.nodes[el_id][\"coordinates\"],\n",
    "                G.successors(stor_id))\n",
    "            )\n",
    "\n",
    "            # Для упорядочивания элементов одной группы\n",
    "            start_point = (0, 0)\n",
    "            def compute_angle(el_id):\n",
    "                coordinates = G.nodes[el_id][\"coordinates\"]\n",
    "                x, y, z = coordinates[0], coordinates[1], coordinates[2]\n",
    "                angle = math.atan2(y - start_point[1], x - start_point[0])\n",
    "                return z, angle\n",
    "\n",
    "            for j, i in enumerate(sorted(elements, key=compute_angle)):\n",
    "                s_data = G.nodes[i]\n",
    "                if s_data[\"coordinates\"]:\n",
    "                    session.execute_write(add_node, i, stor_id, s_data)\n",
    "                                          # s_data['is_a'], s_data['name'], s_data[\"coordinates\"])\n",
    "                    session.execute_write(add_el_to_class, cls_to_id[cls], i)\n",
    "                    if j > 0:\n",
    "                        session.execute_write(traverse, prev_id, i)\n",
    "                    prev_id = i\n",
    "                    if j == 4:\n",
    "                        break\n",
    "\n",
    "            q_rel = '''\n",
    "            MATCH (a:IfcClass)-[r:FOLLOWS]->(b:IfcClass)\n",
    "            RETURN a.name AS type1, b.name AS type2\n",
    "            '''\n",
    "            result = pd.DataFrame(group_driver.session().run(q_rel).data())\n",
    "            result.apply(\n",
    "                lambda row: connect_chains(stor_id, row.type1, row.type2),\n",
    "                # lambda row: print(row.type1, row.type2),\n",
    "                axis=1\n",
    "            )\n",
    "\n",
    "        if k == 4:\n",
    "            break"
   ],
   "metadata": {
    "collapsed": false,
    "ExecuteTime": {
     "start_time": "2023-11-01T12:38:04.270259Z",
     "end_time": "2023-11-01T12:38:06.479573Z"
    }
   }
  },
  {
   "cell_type": "code",
   "execution_count": 153,
   "outputs": [],
   "source": [
    "def connect_chains(stor_id, type1: str, type2: str):\n",
    "    q_get_last = f'''MATCH (s:Element {{is_a: '{type1}', stor_id: '{str(stor_id)}' }})\n",
    "    WHERE NOT (s)-[]->(:Element {{is_a: '{type1}' }})\n",
    "    RETURN s.id AS id\n",
    "    LIMIT 1'''\n",
    "    last_res = element_driver.session().run(q_get_last).data()\n",
    "    q_get_first = f'''MATCH (s:Element {{is_a: '{type2}', stor_id: '{str(stor_id)}' }})\n",
    "    WHERE NOT (:Element {{is_a: '{type2}' }})-[]->(s)\n",
    "    RETURN s.id AS id\n",
    "    LIMIT 1'''\n",
    "    first_res = element_driver.session().run(q_get_first).data()\n",
    "\n",
    "    if len(last_res) > 0 and len(first_res) > 0:\n",
    "        q_rel = f'''MATCH (a:Element) WHERE a.id = '{last_res[0]['id']}'\n",
    "        MATCH (b:Element) WHERE b.id = '{first_res[0]['id']}'\n",
    "        MERGE (a)-[r:TRAVERSE]->(b)\n",
    "        '''\n",
    "        element_driver.session().run(q_rel)"
   ],
   "metadata": {
    "collapsed": false,
    "ExecuteTime": {
     "start_time": "2023-11-01T12:38:01.113552Z",
     "end_time": "2023-11-01T12:38:01.129177Z"
    }
   }
  },
  {
   "cell_type": "code",
   "execution_count": null,
   "outputs": [],
   "source": [
    "with group_driver.session() as session:\n",
    "    q_rel = '''\n",
    "    MATCH (a:IfcClass)-[r:FOLLOWS]->(b:IfcClass)\n",
    "    RETURN a.name AS type1, b.name AS type2\n",
    "    '''\n",
    "    result = pd.DataFrame(session.run(q_rel).data())\n",
    "    result.apply(\n",
    "        lambda row: connect_chains(row.type1, row.type2),\n",
    "        # lambda row: print(row.type1, row.type2),\n",
    "        axis=1\n",
    "    )\n",
    "    print(result)"
   ],
   "metadata": {
    "collapsed": false
   }
  },
  {
   "cell_type": "code",
   "execution_count": 102,
   "outputs": [],
   "source": [
    "connect_chains(163, 'IfcBuildingElementProxy', 'IfcWall')"
   ],
   "metadata": {
    "collapsed": false,
    "ExecuteTime": {
     "start_time": "2023-10-31T16:13:20.329693Z",
     "end_time": "2023-10-31T16:13:20.642988Z"
    }
   }
  }
 ],
 "metadata": {
  "kernelspec": {
   "display_name": "Python 3 (ipykernel)",
   "language": "python",
   "name": "python3"
  },
  "language_info": {
   "codemirror_mode": {
    "name": "ipython",
    "version": 3
   },
   "file_extension": ".py",
   "mimetype": "text/x-python",
   "name": "python",
   "nbconvert_exporter": "python",
   "pygments_lexer": "ipython3",
   "version": "3.10.4"
  }
 },
 "nbformat": 4,
 "nbformat_minor": 5
}
