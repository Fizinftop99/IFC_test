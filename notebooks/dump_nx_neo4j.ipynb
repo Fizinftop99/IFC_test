{
 "cells": [
  {
   "cell_type": "code",
   "execution_count": 1,
   "id": "f9fce2a2",
   "metadata": {
    "ExecuteTime": {
     "start_time": "2023-12-13T18:36:43.990048Z",
     "end_time": "2023-12-13T18:36:44.936604Z"
    }
   },
   "outputs": [],
   "source": [
    "import networkx as nx\n",
    "import pandas as pd\n",
    "import pickle\n",
    "import math\n",
    "from neo4j import GraphDatabase, Transaction"
   ]
  },
  {
   "cell_type": "code",
   "execution_count": 2,
   "outputs": [
    {
     "data": {
      "text/plain": "'C:\\\\Users\\\\naumo\\\\PycharmProjects\\\\IFC_test\\\\notebooks'"
     },
     "execution_count": 2,
     "metadata": {},
     "output_type": "execute_result"
    }
   ],
   "source": [
    "import os\n",
    "os.getcwd()"
   ],
   "metadata": {
    "collapsed": false,
    "ExecuteTime": {
     "start_time": "2023-12-13T18:36:46.335661Z",
     "end_time": "2023-12-13T18:36:46.353642Z"
    }
   }
  },
  {
   "cell_type": "code",
   "execution_count": 6,
   "outputs": [
    {
     "data": {
      "text/plain": "        GESN                                               name\n0  06-01-001  Устройство фундаментных плит железобетонных пл...\n1  06-01-024  Устройство стен подвалов и подпорных стен желе...\n2  06-01-041  Устройство перекрытий безбалочных толщиной до ...\n3  06-01-031  Устройство железобетонных стен и перегородок в...\n4  09-03-014  Монтаж связей и распорок из одиночных и парных...\n5  09-03-015  Монтаж прогонов при шаге ферм до 12 м при высо...\n6  09-03-012  Монтаж стропильных и подстропильных ферм на вы...",
      "text/html": "<div>\n<style scoped>\n    .dataframe tbody tr th:only-of-type {\n        vertical-align: middle;\n    }\n\n    .dataframe tbody tr th {\n        vertical-align: top;\n    }\n\n    .dataframe thead th {\n        text-align: right;\n    }\n</style>\n<table border=\"1\" class=\"dataframe\">\n  <thead>\n    <tr style=\"text-align: right;\">\n      <th></th>\n      <th>GESN</th>\n      <th>name</th>\n    </tr>\n  </thead>\n  <tbody>\n    <tr>\n      <th>0</th>\n      <td>06-01-001</td>\n      <td>Устройство фундаментных плит железобетонных пл...</td>\n    </tr>\n    <tr>\n      <th>1</th>\n      <td>06-01-024</td>\n      <td>Устройство стен подвалов и подпорных стен желе...</td>\n    </tr>\n    <tr>\n      <th>2</th>\n      <td>06-01-041</td>\n      <td>Устройство перекрытий безбалочных толщиной до ...</td>\n    </tr>\n    <tr>\n      <th>3</th>\n      <td>06-01-031</td>\n      <td>Устройство железобетонных стен и перегородок в...</td>\n    </tr>\n    <tr>\n      <th>4</th>\n      <td>09-03-014</td>\n      <td>Монтаж связей и распорок из одиночных и парных...</td>\n    </tr>\n    <tr>\n      <th>5</th>\n      <td>09-03-015</td>\n      <td>Монтаж прогонов при шаге ферм до 12 м при высо...</td>\n    </tr>\n    <tr>\n      <th>6</th>\n      <td>09-03-012</td>\n      <td>Монтаж стропильных и подстропильных ферм на вы...</td>\n    </tr>\n  </tbody>\n</table>\n</div>"
     },
     "execution_count": 6,
     "metadata": {},
     "output_type": "execute_result"
    }
   ],
   "source": [
    "df = pd.read_excel(\n",
    "    \"../a_new/solution.xls\",\n",
    "    sheet_name=0,\n",
    "    header=None,\n",
    "    names=[\"GESN\", \"name\"]\n",
    "    ).dropna()\n",
    "df"
   ],
   "metadata": {
    "collapsed": false,
    "ExecuteTime": {
     "start_time": "2023-12-13T18:40:07.394639Z",
     "end_time": "2023-12-13T18:40:07.445612Z"
    }
   }
  },
  {
   "cell_type": "code",
   "execution_count": 7,
   "outputs": [
    {
     "data": {
      "text/plain": "        pred        flw\n0  09-03-015  09-03-014\n1  09-03-012  09-03-015\n2  06-01-031  09-03-012",
      "text/html": "<div>\n<style scoped>\n    .dataframe tbody tr th:only-of-type {\n        vertical-align: middle;\n    }\n\n    .dataframe tbody tr th {\n        vertical-align: top;\n    }\n\n    .dataframe thead th {\n        text-align: right;\n    }\n</style>\n<table border=\"1\" class=\"dataframe\">\n  <thead>\n    <tr style=\"text-align: right;\">\n      <th></th>\n      <th>pred</th>\n      <th>flw</th>\n    </tr>\n  </thead>\n  <tbody>\n    <tr>\n      <th>0</th>\n      <td>09-03-015</td>\n      <td>09-03-014</td>\n    </tr>\n    <tr>\n      <th>1</th>\n      <td>09-03-012</td>\n      <td>09-03-015</td>\n    </tr>\n    <tr>\n      <th>2</th>\n      <td>06-01-031</td>\n      <td>09-03-012</td>\n    </tr>\n  </tbody>\n</table>\n</div>"
     },
     "execution_count": 7,
     "metadata": {},
     "output_type": "execute_result"
    }
   ],
   "source": [
    "df_gesn_links = pd.read_excel(\n",
    "    \"../a_new/solution.xls\",\n",
    "    sheet_name=1,\n",
    "    ).dropna()\n",
    "df_gesn_links"
   ],
   "metadata": {
    "collapsed": false,
    "ExecuteTime": {
     "start_time": "2023-12-13T18:40:52.243921Z",
     "end_time": "2023-12-13T18:40:52.298636Z"
    }
   }
  },
  {
   "cell_type": "code",
   "execution_count": 23,
   "outputs": [],
   "source": [
    "G = pickle.load(open('../src/KJ.pickle', 'rb'))"
   ],
   "metadata": {
    "collapsed": false,
    "ExecuteTime": {
     "start_time": "2023-11-16T21:05:41.537468Z",
     "end_time": "2023-11-16T21:05:41.650683Z"
    }
   }
  },
  {
   "cell_type": "code",
   "execution_count": 6,
   "outputs": [],
   "source": [
    "group_driver = GraphDatabase.driver(\n",
    "    \"bolt://localhost:7688\",\n",
    "    auth=(\"neo4j\", \"23109900\")\n",
    ")\n",
    "group_driver.verify_connectivity()"
   ],
   "metadata": {
    "collapsed": false,
    "ExecuteTime": {
     "start_time": "2023-11-16T19:47:11.864476Z",
     "end_time": "2023-11-16T19:47:11.895726Z"
    }
   }
  },
  {
   "cell_type": "code",
   "execution_count": 7,
   "outputs": [],
   "source": [
    "# def add_node(tx: Transaction, id_, stor_id_, type_, name, coords,):\n",
    "#     q_create = \"CREATE (a:Element {id: $id, stor_id: $stor_id, type: $type, name: $name, coordinates: $crd})\"\n",
    "#     tx.run(q_create, id=str(id_), stor_id=stor_id_, type=type_, name=name, crd=coords)\n",
    "def add_node(tx: Transaction, id_, stor_id_, props_):\n",
    "    q = \"\"\"\n",
    "    CREATE (n:Element)\n",
    "    SET n = $props\n",
    "    SET n.id = $id\n",
    "    SET n.stor_id = $stor_id\n",
    "    \"\"\"\n",
    "    tx.run(q, id=str(id_), stor_id=str(stor_id_), props=props_)\n",
    "\n",
    "def add_edge(tx: Transaction, n, m):\n",
    "    q_edge = '''\n",
    "    MATCH (a:Element) WHERE a.id = $id1\n",
    "    MATCH (b:Element) WHERE b.id = $id2\n",
    "    MERGE (a)-[r:CONTAINS]->(b)\n",
    "    '''\n",
    "    tx.run(q_edge, id1=str(n), id2=str(m))\n",
    "\n",
    "def add_ifc_class(tx: Transaction, storey_id, class_id, class_name):\n",
    "    q_class = '''\n",
    "    MATCH (s:Element) WHERE s.id = $s_id\n",
    "    MERGE (s)-[r:CONTAINS]->(:IfcClass {id: $id, name: $name})\n",
    "    '''\n",
    "    tx.run(q_class, s_id=str(storey_id), id=str(class_id), name=class_name)\n",
    "\n",
    "def add_el_to_class(tx: Transaction, class_id, element_id):\n",
    "    q_cls_el = '''\n",
    "    MATCH (c:IfcClass) WHERE c.id = $cls_id\n",
    "    MATCH (e:Element) WHERE e.id = $el_id\n",
    "    MERGE (c)-[:CONSISTS_OF]->(e)\n",
    "    '''\n",
    "    tx.run(q_cls_el, cls_id=str(class_id), el_id=str(element_id))\n",
    "\n",
    "def traverse(tx:Transaction, id1, id2):\n",
    "    q_traverse = '''\n",
    "    MATCH (a:Element) WHERE a.id = $id1\n",
    "    MATCH (b:Element) WHERE b.id = $id2\n",
    "    MERGE (a)-[:TRAVERSE]->(b)\n",
    "    '''\n",
    "    tx.run(q_traverse, id1=str(id1), id2=str(id2))\n",
    "\n",
    "def add_class_rel(tx: Transaction, pred_name: str, flw_name: str):\n",
    "    q_rel = '''\n",
    "    MATCH (a:IfcClass) WHERE a.name = $name1\n",
    "    MATCH (b:IfcClass) WHERE b.name = $name2\n",
    "    MERGE (a)-[r:FOLLOWS]->(b)\n",
    "    '''\n",
    "    tx.run(q_rel, name1=pred_name, name2=flw_name)"
   ],
   "metadata": {
    "collapsed": false,
    "ExecuteTime": {
     "start_time": "2023-11-16T19:47:42.407950Z",
     "end_time": "2023-11-16T19:47:42.439185Z"
    }
   }
  },
  {
   "cell_type": "code",
   "execution_count": 145,
   "outputs": [],
   "source": [
    "classes = (\n",
    "    'IfcWall',\n",
    "    # 'IfcDoor',\n",
    "    'IfcBuildingElementProxy',\n",
    "    # 'IfcWindow',\n",
    "    'IfcSlab',\n",
    "    \"IfcFlowTerminal\",\n",
    "    \"IfcFurniture\",\n",
    "    'IfcCurtainWall',)\n",
    "# Create group data\n",
    "def add_class(tx: Transaction, class_name: str):\n",
    "    q_class = '''\n",
    "    MERGE (n:IfcClass {name: $name})\n",
    "    '''\n",
    "    tx.run(q_class, name=class_name)\n",
    "\n",
    "with group_driver.session() as session:\n",
    "    session.run('MATCH (n) DETACH DELETE n')\n",
    "    for i in classes:\n",
    "        session.execute_write(add_class, i)\n",
    "\n",
    "    session.execute_write(add_class_rel, 'IfcBuildingElementProxy', 'IfcWall')\n",
    "    session.execute_write(add_class_rel, 'IfcBuildingElementProxy', 'IfcSlab')\n",
    "    session.execute_write(add_class_rel, 'IfcWall', 'IfcWindow')\n",
    "    session.execute_write(add_class_rel, 'IfcWall', \"IfcFlowTerminal\")\n",
    "    session.execute_write(add_class_rel, 'IfcWall', 'IfcCurtainWall')\n",
    "    session.execute_write(add_class_rel, 'IfcWall', \"IfcFurniture\")\n",
    "    session.execute_write(add_class_rel, 'IfcBuildingElementProxy', 'IfcDoor')\n",
    "    session.execute_write(add_class_rel, 'IfcDoor', 'IfcWindow')"
   ],
   "metadata": {
    "collapsed": false
   }
  },
  {
   "cell_type": "code",
   "execution_count": 8,
   "outputs": [],
   "source": [
    "element_driver = GraphDatabase.driver(\n",
    "    \"bolt://localhost:7687\",\n",
    "    auth=(\"neo4j\", \"23109900\")\n",
    ")\n",
    "element_driver.verify_connectivity()\n",
    "# element_driver.verify_authentication()"
   ],
   "metadata": {
    "collapsed": false,
    "ExecuteTime": {
     "start_time": "2023-11-16T19:47:47.304295Z",
     "end_time": "2023-11-16T19:47:47.338996Z"
    }
   }
  },
  {
   "cell_type": "code",
   "execution_count": 25,
   "outputs": [
    {
     "data": {
      "text/plain": "142"
     },
     "execution_count": 25,
     "metadata": {},
     "output_type": "execute_result"
    }
   ],
   "source": [
    "build_id = [node for node, data in G.nodes(data=True) if data.get('is_a') == 'IfcBuilding'][0]\n",
    "build_id"
   ],
   "metadata": {
    "collapsed": false,
    "ExecuteTime": {
     "start_time": "2023-11-16T21:05:59.383457Z",
     "end_time": "2023-11-16T21:05:59.408008Z"
    }
   }
  },
  {
   "cell_type": "code",
   "execution_count": 39,
   "outputs": [
    {
     "data": {
      "text/plain": "    id  elevation\n0  175     -700.0\n1  179        0.0\n2  185     2700.0\n3  191     3530.0\n4  197     4000.0",
      "text/html": "<div>\n<style scoped>\n    .dataframe tbody tr th:only-of-type {\n        vertical-align: middle;\n    }\n\n    .dataframe tbody tr th {\n        vertical-align: top;\n    }\n\n    .dataframe thead th {\n        text-align: right;\n    }\n</style>\n<table border=\"1\" class=\"dataframe\">\n  <thead>\n    <tr style=\"text-align: right;\">\n      <th></th>\n      <th>id</th>\n      <th>elevation</th>\n    </tr>\n  </thead>\n  <tbody>\n    <tr>\n      <th>0</th>\n      <td>175</td>\n      <td>-700.0</td>\n    </tr>\n    <tr>\n      <th>1</th>\n      <td>179</td>\n      <td>0.0</td>\n    </tr>\n    <tr>\n      <th>2</th>\n      <td>185</td>\n      <td>2700.0</td>\n    </tr>\n    <tr>\n      <th>3</th>\n      <td>191</td>\n      <td>3530.0</td>\n    </tr>\n    <tr>\n      <th>4</th>\n      <td>197</td>\n      <td>4000.0</td>\n    </tr>\n  </tbody>\n</table>\n</div>"
     },
     "execution_count": 39,
     "metadata": {},
     "output_type": "execute_result"
    }
   ],
   "source": [
    "q = '''\n",
    "MATCH (n) WHERE n.is_a = 'IfcBuildingStorey'\n",
    "RETURN n.id AS id, n.Elevation As elevation'''\n",
    "level_df = pd.DataFrame(element_driver.session().run(q).data())\n",
    "level_df.head()"
   ],
   "metadata": {
    "collapsed": false,
    "ExecuteTime": {
     "start_time": "2023-11-17T12:31:59.427705Z",
     "end_time": "2023-11-17T12:31:59.458955Z"
    }
   }
  },
  {
   "cell_type": "code",
   "execution_count": 40,
   "outputs": [
    {
     "data": {
      "text/plain": "    id  elevation\n0  163    -5000.0\n1  169    -2070.0\n2  175     -700.0\n3  179        0.0\n4  185     2700.0",
      "text/html": "<div>\n<style scoped>\n    .dataframe tbody tr th:only-of-type {\n        vertical-align: middle;\n    }\n\n    .dataframe tbody tr th {\n        vertical-align: top;\n    }\n\n    .dataframe thead th {\n        text-align: right;\n    }\n</style>\n<table border=\"1\" class=\"dataframe\">\n  <thead>\n    <tr style=\"text-align: right;\">\n      <th></th>\n      <th>id</th>\n      <th>elevation</th>\n    </tr>\n  </thead>\n  <tbody>\n    <tr>\n      <th>0</th>\n      <td>163</td>\n      <td>-5000.0</td>\n    </tr>\n    <tr>\n      <th>1</th>\n      <td>169</td>\n      <td>-2070.0</td>\n    </tr>\n    <tr>\n      <th>2</th>\n      <td>175</td>\n      <td>-700.0</td>\n    </tr>\n    <tr>\n      <th>3</th>\n      <td>179</td>\n      <td>0.0</td>\n    </tr>\n    <tr>\n      <th>4</th>\n      <td>185</td>\n      <td>2700.0</td>\n    </tr>\n  </tbody>\n</table>\n</div>"
     },
     "execution_count": 40,
     "metadata": {},
     "output_type": "execute_result"
    }
   ],
   "source": [
    "level_df.sort_values(by=['elevation'], inplace=True, ignore_index=True)\n",
    "level_df.head()"
   ],
   "metadata": {
    "collapsed": false,
    "ExecuteTime": {
     "start_time": "2023-11-17T12:32:11.020601Z",
     "end_time": "2023-11-17T12:32:11.036223Z"
    }
   }
  },
  {
   "cell_type": "code",
   "execution_count": 44,
   "outputs": [
    {
     "data": {
      "text/plain": "     id  elevation\n0   163    -5000.0\n1   169    -2070.0\n2   175     -700.0\n3   179        0.0\n4   185     2700.0\n5   191     3530.0\n6   197     4000.0\n7   203     7000.0\n8   209    10000.0\n9   215    13000.0\n10  221    16000.0\n11  227    19000.0\n12  233    22000.0\n13  239    25000.0\n14  245    28000.0\n15  251    31000.0\n16  257    34000.0\n17  263    37000.0\n18  269    40000.0\n19  275    43000.0\n20  281    46000.0\n21  287    49000.0\n22  293    52000.0\n23  299    55000.0\n24  305    58000.0\n25  311    61000.0\n26  317    64000.0\n27  323    67000.0\n28  329    70000.0\n29  335    73300.0\n30  341    76620.0\n31  347    78820.0\n32  353    80420.0",
      "text/html": "<div>\n<style scoped>\n    .dataframe tbody tr th:only-of-type {\n        vertical-align: middle;\n    }\n\n    .dataframe tbody tr th {\n        vertical-align: top;\n    }\n\n    .dataframe thead th {\n        text-align: right;\n    }\n</style>\n<table border=\"1\" class=\"dataframe\">\n  <thead>\n    <tr style=\"text-align: right;\">\n      <th></th>\n      <th>id</th>\n      <th>elevation</th>\n    </tr>\n  </thead>\n  <tbody>\n    <tr>\n      <th>0</th>\n      <td>163</td>\n      <td>-5000.0</td>\n    </tr>\n    <tr>\n      <th>1</th>\n      <td>169</td>\n      <td>-2070.0</td>\n    </tr>\n    <tr>\n      <th>2</th>\n      <td>175</td>\n      <td>-700.0</td>\n    </tr>\n    <tr>\n      <th>3</th>\n      <td>179</td>\n      <td>0.0</td>\n    </tr>\n    <tr>\n      <th>4</th>\n      <td>185</td>\n      <td>2700.0</td>\n    </tr>\n    <tr>\n      <th>5</th>\n      <td>191</td>\n      <td>3530.0</td>\n    </tr>\n    <tr>\n      <th>6</th>\n      <td>197</td>\n      <td>4000.0</td>\n    </tr>\n    <tr>\n      <th>7</th>\n      <td>203</td>\n      <td>7000.0</td>\n    </tr>\n    <tr>\n      <th>8</th>\n      <td>209</td>\n      <td>10000.0</td>\n    </tr>\n    <tr>\n      <th>9</th>\n      <td>215</td>\n      <td>13000.0</td>\n    </tr>\n    <tr>\n      <th>10</th>\n      <td>221</td>\n      <td>16000.0</td>\n    </tr>\n    <tr>\n      <th>11</th>\n      <td>227</td>\n      <td>19000.0</td>\n    </tr>\n    <tr>\n      <th>12</th>\n      <td>233</td>\n      <td>22000.0</td>\n    </tr>\n    <tr>\n      <th>13</th>\n      <td>239</td>\n      <td>25000.0</td>\n    </tr>\n    <tr>\n      <th>14</th>\n      <td>245</td>\n      <td>28000.0</td>\n    </tr>\n    <tr>\n      <th>15</th>\n      <td>251</td>\n      <td>31000.0</td>\n    </tr>\n    <tr>\n      <th>16</th>\n      <td>257</td>\n      <td>34000.0</td>\n    </tr>\n    <tr>\n      <th>17</th>\n      <td>263</td>\n      <td>37000.0</td>\n    </tr>\n    <tr>\n      <th>18</th>\n      <td>269</td>\n      <td>40000.0</td>\n    </tr>\n    <tr>\n      <th>19</th>\n      <td>275</td>\n      <td>43000.0</td>\n    </tr>\n    <tr>\n      <th>20</th>\n      <td>281</td>\n      <td>46000.0</td>\n    </tr>\n    <tr>\n      <th>21</th>\n      <td>287</td>\n      <td>49000.0</td>\n    </tr>\n    <tr>\n      <th>22</th>\n      <td>293</td>\n      <td>52000.0</td>\n    </tr>\n    <tr>\n      <th>23</th>\n      <td>299</td>\n      <td>55000.0</td>\n    </tr>\n    <tr>\n      <th>24</th>\n      <td>305</td>\n      <td>58000.0</td>\n    </tr>\n    <tr>\n      <th>25</th>\n      <td>311</td>\n      <td>61000.0</td>\n    </tr>\n    <tr>\n      <th>26</th>\n      <td>317</td>\n      <td>64000.0</td>\n    </tr>\n    <tr>\n      <th>27</th>\n      <td>323</td>\n      <td>67000.0</td>\n    </tr>\n    <tr>\n      <th>28</th>\n      <td>329</td>\n      <td>70000.0</td>\n    </tr>\n    <tr>\n      <th>29</th>\n      <td>335</td>\n      <td>73300.0</td>\n    </tr>\n    <tr>\n      <th>30</th>\n      <td>341</td>\n      <td>76620.0</td>\n    </tr>\n    <tr>\n      <th>31</th>\n      <td>347</td>\n      <td>78820.0</td>\n    </tr>\n    <tr>\n      <th>32</th>\n      <td>353</td>\n      <td>80420.0</td>\n    </tr>\n  </tbody>\n</table>\n</div>"
     },
     "execution_count": 44,
     "metadata": {},
     "output_type": "execute_result"
    }
   ],
   "source": [
    "level_df"
   ],
   "metadata": {
    "collapsed": false,
    "ExecuteTime": {
     "start_time": "2023-11-17T22:44:45.092020Z",
     "end_time": "2023-11-17T22:44:45.107000Z"
    }
   }
  },
  {
   "cell_type": "code",
   "execution_count": 45,
   "outputs": [],
   "source": [
    "from src.nx_to_neo4j_converter import NxToNeo4jConverter\n",
    "\n",
    "neo4j_exp = NxToNeo4jConverter()\n",
    "neo4j_exp.connect_storeys(317, 323)"
   ],
   "metadata": {
    "collapsed": false,
    "ExecuteTime": {
     "start_time": "2023-11-17T22:45:45.784055Z",
     "end_time": "2023-11-17T22:45:46.407994Z"
    }
   }
  },
  {
   "cell_type": "code",
   "execution_count": 43,
   "outputs": [
    {
     "name": "stdout",
     "output_type": "stream",
     "text": [
      "1\n",
      "2\n",
      "3\n",
      "4\n",
      "5\n",
      "6\n",
      "7\n",
      "8\n",
      "9\n",
      "10\n",
      "11\n",
      "12\n",
      "13\n",
      "14\n",
      "15\n",
      "16\n",
      "17\n",
      "18\n",
      "19\n",
      "20\n",
      "21\n",
      "22\n",
      "23\n",
      "24\n",
      "25\n",
      "26\n",
      "27\n",
      "28\n",
      "29\n",
      "30\n",
      "31\n",
      "32\n"
     ]
    }
   ],
   "source": [
    "with element_driver.session() as session:\n",
    "    for ind, row in list(level_df.iterrows())[1:]:\n",
    "        print(ind)\n",
    "        # if ind != 0:\n",
    "        #     session.execute_write(traverse, pred_id, row.id)\n",
    "        # pred_id = row.id"
   ],
   "metadata": {
    "collapsed": false,
    "ExecuteTime": {
     "start_time": "2023-11-17T22:29:38.590630Z",
     "end_time": "2023-11-17T22:29:38.635622Z"
    }
   }
  },
  {
   "cell_type": "code",
   "execution_count": 27,
   "outputs": [
    {
     "name": "stdout",
     "output_type": "stream",
     "text": [
      "163 {'IfcBuildingElementProxy', 'IfcStair', 'IfcWall', 'IfcSlab'}\n",
      "169 {'IfcWall'}\n",
      "175 {'IfcWall', 'IfcSlab'}\n",
      "179 {'IfcBuildingElementProxy', 'IfcStair', 'IfcWall', 'IfcSlab'}\n",
      "185 {'IfcWall'}\n",
      "191 {'IfcWall'}\n",
      "197 {'IfcBuildingElementProxy', 'IfcStair', 'IfcWall', 'IfcSlab'}\n",
      "203 {'IfcBuildingElementProxy', 'IfcStair', 'IfcWall', 'IfcSlab'}\n",
      "209 {'IfcBuildingElementProxy', 'IfcStair', 'IfcWall', 'IfcSlab'}\n",
      "215 {'IfcBuildingElementProxy', 'IfcStair', 'IfcWall', 'IfcSlab'}\n",
      "221 {'IfcBuildingElementProxy', 'IfcStair', 'IfcWall', 'IfcSlab'}\n",
      "227 {'IfcBuildingElementProxy', 'IfcStair', 'IfcWall', 'IfcSlab'}\n",
      "233 {'IfcBuildingElementProxy', 'IfcStair', 'IfcWall', 'IfcSlab'}\n",
      "239 {'IfcBuildingElementProxy', 'IfcStair', 'IfcWall', 'IfcSlab'}\n",
      "245 {'IfcBuildingElementProxy', 'IfcStair', 'IfcWall', 'IfcSlab'}\n",
      "251 {'IfcBuildingElementProxy', 'IfcStair', 'IfcWall', 'IfcSlab'}\n",
      "257 {'IfcBuildingElementProxy', 'IfcStair', 'IfcWall', 'IfcSlab'}\n",
      "263 {'IfcBuildingElementProxy', 'IfcStair', 'IfcWall', 'IfcSlab'}\n",
      "269 {'IfcBuildingElementProxy', 'IfcStair', 'IfcWall', 'IfcSlab'}\n",
      "275 {'IfcBuildingElementProxy', 'IfcStair', 'IfcWall', 'IfcSlab'}\n",
      "281 {'IfcBuildingElementProxy', 'IfcStair', 'IfcWall', 'IfcSlab'}\n",
      "287 {'IfcBuildingElementProxy', 'IfcStair', 'IfcWall', 'IfcSlab'}\n",
      "293 {'IfcBuildingElementProxy', 'IfcStair', 'IfcWall', 'IfcSlab'}\n",
      "299 {'IfcBuildingElementProxy', 'IfcStair', 'IfcWall', 'IfcSlab'}\n",
      "305 {'IfcBuildingElementProxy', 'IfcStair', 'IfcWall', 'IfcSlab'}\n",
      "311 {'IfcBuildingElementProxy', 'IfcStair', 'IfcWall', 'IfcSlab'}\n",
      "317 {'IfcBuildingElementProxy', 'IfcStair', 'IfcWall', 'IfcSlab'}\n",
      "323 {'IfcBuildingElementProxy', 'IfcStair', 'IfcWall', 'IfcSlab'}\n",
      "329 {'IfcBuildingElementProxy', 'IfcStair', 'IfcWall', 'IfcSlab'}\n",
      "335 {'IfcBuildingElementProxy', 'IfcStair', 'IfcWall', 'IfcSlab'}\n",
      "341 {'IfcBuildingElementProxy', 'IfcStair', 'IfcWall', 'IfcSlab'}\n",
      "347 {'IfcWall', 'IfcSlab'}\n",
      "353 {'IfcWall', 'IfcSlab'}\n"
     ]
    }
   ],
   "source": [
    "for j in G.successors(build_id):\n",
    "    contained_classes = set(G.nodes[i]['is_a'] for i in G.successors(j))\n",
    "    # contained_classes = set(G.nodes[i]['is_a'] for i in list(filter(\n",
    "    #             lambda el_id: G.nodes[el_id][\"coordinates\"],\n",
    "    #             G.successors(j))\n",
    "    #         ))\n",
    "    print(j, contained_classes)"
   ],
   "metadata": {
    "collapsed": false,
    "ExecuteTime": {
     "start_time": "2023-11-16T21:24:06.056087Z",
     "end_time": "2023-11-16T21:24:06.078083Z"
    }
   }
  },
  {
   "cell_type": "code",
   "execution_count": 12,
   "outputs": [
    {
     "name": "stdout",
     "output_type": "stream",
     "text": [
      "{'IfcBuildingElementProxy', 'IfcWall'}\n"
     ]
    }
   ],
   "source": [
    "contained_classes = set(G.nodes[i]['is_a'] for i in list(filter(\n",
    "                lambda el_id: G.nodes[el_id][\"coordinates\"],\n",
    "                G.successors(163))\n",
    "            ))\n",
    "print(contained_classes)"
   ],
   "metadata": {
    "collapsed": false,
    "ExecuteTime": {
     "start_time": "2023-11-16T19:51:11.265850Z",
     "end_time": "2023-11-16T19:51:11.312705Z"
    }
   }
  },
  {
   "cell_type": "code",
   "execution_count": 15,
   "outputs": [
    {
     "data": {
      "text/plain": "{'IfcBuildingElementProxy', 'IfcWall'}"
     },
     "execution_count": 15,
     "metadata": {},
     "output_type": "execute_result"
    }
   ],
   "source": [
    "set(G.nodes[i]['is_a'] for i in G.successors(169))"
   ],
   "metadata": {
    "collapsed": false,
    "ExecuteTime": {
     "start_time": "2023-11-16T19:51:57.027787Z",
     "end_time": "2023-11-16T19:51:57.059033Z"
    }
   }
  },
  {
   "cell_type": "code",
   "execution_count": 154,
   "outputs": [
    {
     "name": "stdout",
     "output_type": "stream",
     "text": [
      "163 IfcBuildingElementProxy 2349858 IfcWall 2161316\n",
      "<class 'str'>\n",
      "MATCH (a:Element) WHERE a.id = '2349858'\n",
      "        MATCH (b:Element) WHERE b.id = '2161316'\n",
      "        MERGE (a)-[r:TRAVERSE]->(b)\n",
      "        \n",
      "169 IfcBuildingElementProxy 2349337 IfcWall 719728\n",
      "<class 'str'>\n",
      "MATCH (a:Element) WHERE a.id = '2349337'\n",
      "        MATCH (b:Element) WHERE b.id = '719728'\n",
      "        MERGE (a)-[r:TRAVERSE]->(b)\n",
      "        \n",
      "175 IfcBuildingElementProxy 2316551 IfcWall 749004\n",
      "<class 'str'>\n",
      "MATCH (a:Element) WHERE a.id = '2316551'\n",
      "        MATCH (b:Element) WHERE b.id = '749004'\n",
      "        MERGE (a)-[r:TRAVERSE]->(b)\n",
      "        \n",
      "179 IfcBuildingElementProxy 3198133 IfcSlab 702965\n",
      "<class 'str'>\n",
      "MATCH (a:Element) WHERE a.id = '3198133'\n",
      "        MATCH (b:Element) WHERE b.id = '702965'\n",
      "        MERGE (a)-[r:TRAVERSE]->(b)\n",
      "        \n",
      "179 IfcBuildingElementProxy 3198133 IfcWall 764843\n",
      "<class 'str'>\n",
      "MATCH (a:Element) WHERE a.id = '3198133'\n",
      "        MATCH (b:Element) WHERE b.id = '764843'\n",
      "        MERGE (a)-[r:TRAVERSE]->(b)\n",
      "        \n",
      "179 IfcBuildingElementProxy 3198133 IfcSlab 702965\n",
      "<class 'str'>\n",
      "MATCH (a:Element) WHERE a.id = '3198133'\n",
      "        MATCH (b:Element) WHERE b.id = '702965'\n",
      "        MERGE (a)-[r:TRAVERSE]->(b)\n",
      "        \n",
      "179 IfcWall 2352000 IfcFlowTerminal 1345382\n",
      "<class 'str'>\n",
      "MATCH (a:Element) WHERE a.id = '2352000'\n",
      "        MATCH (b:Element) WHERE b.id = '1345382'\n",
      "        MERGE (a)-[r:TRAVERSE]->(b)\n",
      "        \n",
      "179 IfcBuildingElementProxy 3198133 IfcWall 764843\n",
      "<class 'str'>\n",
      "MATCH (a:Element) WHERE a.id = '3198133'\n",
      "        MATCH (b:Element) WHERE b.id = '764843'\n",
      "        MERGE (a)-[r:TRAVERSE]->(b)\n",
      "        \n",
      "179 IfcBuildingElementProxy 3198133 IfcSlab 702965\n",
      "<class 'str'>\n",
      "MATCH (a:Element) WHERE a.id = '3198133'\n",
      "        MATCH (b:Element) WHERE b.id = '702965'\n",
      "        MERGE (a)-[r:TRAVERSE]->(b)\n",
      "        \n",
      "179 IfcWall 2352000 IfcFlowTerminal 1345382\n",
      "<class 'str'>\n",
      "MATCH (a:Element) WHERE a.id = '2352000'\n",
      "        MATCH (b:Element) WHERE b.id = '1345382'\n",
      "        MERGE (a)-[r:TRAVERSE]->(b)\n",
      "        \n",
      "179 IfcWall 2352000 IfcFurniture 3219822\n",
      "<class 'str'>\n",
      "MATCH (a:Element) WHERE a.id = '2352000'\n",
      "        MATCH (b:Element) WHERE b.id = '3219822'\n",
      "        MERGE (a)-[r:TRAVERSE]->(b)\n",
      "        \n"
     ]
    }
   ],
   "source": [
    "with element_driver.session(database=\"neo4j\") as session:\n",
    "    session.run('MATCH (n) DETACH DELETE n')\n",
    "\n",
    "    build_id = [node for node, data in G.nodes(data=True) if data.get('is_a') == 'IfcBuilding'][0]\n",
    "    # print(build_id)\n",
    "    session.execute_write(add_node, build_id, None, G.nodes[build_id])\n",
    "                          # None,\n",
    "                          # G.nodes[build_id].get('is_a', None),\n",
    "                          # G.nodes[build_id].get('name', None),\n",
    "                          # G.nodes[build_id].get(\"coordinates\", 0),\n",
    "                          # )\n",
    "\n",
    "    k = 0\n",
    "    for stor_id in G.successors(build_id):\n",
    "        k += 1\n",
    "        data = G.nodes[stor_id]\n",
    "        if data.get('is_a') != 'IfcBuildingStorey':\n",
    "            continue\n",
    "\n",
    "        session.execute_write(add_node, stor_id, None, data)\n",
    "                              # None, data['is_a'], data['name'], data['coordinates'])\n",
    "        session.execute_write(add_edge, build_id, stor_id)\n",
    "\n",
    "\n",
    "        contained_classes = set(G.nodes[i]['is_a'] for i in list(filter(\n",
    "                lambda el_id: G.nodes[el_id][\"coordinates\"],\n",
    "                G.successors(stor_id))\n",
    "            ))\n",
    "        print(contained_classes)\n",
    "        cls_to_id = dict()\n",
    "        for j, cls_name in enumerate(contained_classes):\n",
    "            cls_to_id[cls_name] = str(stor_id) + '_' + str(j)\n",
    "            session.execute_write(add_ifc_class, stor_id, cls_to_id[cls_name], cls_name)\n",
    "\n",
    "        for cls in contained_classes:\n",
    "            elements = list(filter(\n",
    "                lambda el_id: G.nodes[el_id][\"is_a\"] == cls and G.nodes[el_id][\"coordinates\"],\n",
    "                G.successors(stor_id))\n",
    "            )\n",
    "\n",
    "            # Для упорядочивания элементов одной группы\n",
    "            start_point = (0, 0)\n",
    "            def compute_angle(el_id):\n",
    "                coordinates = G.nodes[el_id][\"coordinates\"]\n",
    "                x, y, z = coordinates[0], coordinates[1], coordinates[2]\n",
    "                angle = math.atan2(y - start_point[1], x - start_point[0])\n",
    "                return z, angle\n",
    "\n",
    "            for j, i in enumerate(sorted(elements, key=compute_angle)):\n",
    "                s_data = G.nodes[i]\n",
    "                if s_data[\"coordinates\"]:\n",
    "                    session.execute_write(add_node, i, stor_id, s_data)\n",
    "                                          # s_data['is_a'], s_data['name'], s_data[\"coordinates\"])\n",
    "                    session.execute_write(add_el_to_class, cls_to_id[cls], i)\n",
    "                    if j > 0:\n",
    "                        session.execute_write(traverse, prev_id, i)\n",
    "                    prev_id = i\n",
    "                    if j == 4:\n",
    "                        break\n",
    "\n",
    "            q_rel = '''\n",
    "            MATCH (a:IfcClass)-[r:FOLLOWS]->(b:IfcClass)\n",
    "            RETURN a.name AS type1, b.name AS type2\n",
    "            '''\n",
    "            result = pd.DataFrame(group_driver.session().run(q_rel).data())\n",
    "            result.apply(\n",
    "                lambda row: connect_chains(stor_id, row.type1, row.type2),\n",
    "                # lambda row: print(row.type1, row.type2),\n",
    "                axis=1\n",
    "            )\n",
    "\n",
    "        if k == 4:\n",
    "            break"
   ],
   "metadata": {
    "collapsed": false,
    "ExecuteTime": {
     "start_time": "2023-11-01T12:38:04.270259Z",
     "end_time": "2023-11-01T12:38:06.479573Z"
    }
   }
  },
  {
   "cell_type": "code",
   "execution_count": 153,
   "outputs": [],
   "source": [
    "def connect_chains(stor_id, type1: str, type2: str):\n",
    "    q_get_last = f'''MATCH (s:Element {{is_a: '{type1}', stor_id: '{str(stor_id)}' }})\n",
    "    WHERE NOT (s)-[]->(:Element {{is_a: '{type1}' }})\n",
    "    RETURN s.id AS id\n",
    "    LIMIT 1'''\n",
    "    last_res = element_driver.session().run(q_get_last).data()\n",
    "    q_get_first = f'''MATCH (s:Element {{is_a: '{type2}', stor_id: '{str(stor_id)}' }})\n",
    "    WHERE NOT (:Element {{is_a: '{type2}' }})-[]->(s)\n",
    "    RETURN s.id AS id\n",
    "    LIMIT 1'''\n",
    "    first_res = element_driver.session().run(q_get_first).data()\n",
    "\n",
    "    if len(last_res) > 0 and len(first_res) > 0:\n",
    "        q_rel = f'''MATCH (a:Element) WHERE a.id = '{last_res[0]['id']}'\n",
    "        MATCH (b:Element) WHERE b.id = '{first_res[0]['id']}'\n",
    "        MERGE (a)-[r:TRAVERSE]->(b)\n",
    "        '''\n",
    "        element_driver.session().run(q_rel)"
   ],
   "metadata": {
    "collapsed": false,
    "ExecuteTime": {
     "start_time": "2023-11-01T12:38:01.113552Z",
     "end_time": "2023-11-01T12:38:01.129177Z"
    }
   }
  },
  {
   "cell_type": "code",
   "execution_count": null,
   "outputs": [],
   "source": [
    "with group_driver.session() as session:\n",
    "    q_rel = '''\n",
    "    MATCH (a:IfcClass)-[r:FOLLOWS]->(b:IfcClass)\n",
    "    RETURN a.name AS type1, b.name AS type2\n",
    "    '''\n",
    "    result = pd.DataFrame(session.run(q_rel).data())\n",
    "    result.apply(\n",
    "        lambda row: connect_chains(row.type1, row.type2),\n",
    "        # lambda row: print(row.type1, row.type2),\n",
    "        axis=1\n",
    "    )\n",
    "    print(result)"
   ],
   "metadata": {
    "collapsed": false
   }
  },
  {
   "cell_type": "code",
   "execution_count": 102,
   "outputs": [],
   "source": [
    "connect_chains(163, 'IfcBuildingElementProxy', 'IfcWall')"
   ],
   "metadata": {
    "collapsed": false,
    "ExecuteTime": {
     "start_time": "2023-10-31T16:13:20.329693Z",
     "end_time": "2023-10-31T16:13:20.642988Z"
    }
   }
  }
 ],
 "metadata": {
  "kernelspec": {
   "display_name": "Python 3 (ipykernel)",
   "language": "python",
   "name": "python3"
  },
  "language_info": {
   "codemirror_mode": {
    "name": "ipython",
    "version": 3
   },
   "file_extension": ".py",
   "mimetype": "text/x-python",
   "name": "python",
   "nbconvert_exporter": "python",
   "pygments_lexer": "ipython3",
   "version": "3.10.4"
  }
 },
 "nbformat": 4,
 "nbformat_minor": 5
}
