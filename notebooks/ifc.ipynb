{
 "cells": [
  {
   "cell_type": "code",
   "execution_count": null,
   "outputs": [],
   "source": [
    "{'ADCM_RD': 'AS',\n",
    " 'ADCM_JobType': 'STP', #wbs3\n",
    " 'ADCM_DIN': '342', # wbs3_id\n",
    " 'ADCM_Level': 'L01', # wbs2\n",
    " 'ADCM_Title': '01p', # wbs1\n",
    " 'id': 849}"
   ],
   "metadata": {
    "collapsed": false
   }
  },
  {
   "cell_type": "code",
   "execution_count": 1,
   "outputs": [],
   "source": [
    "import os\n",
    "\n",
    "import ifcopenshell\n",
    "from ifcopenshell.util.element import get_psets"
   ],
   "metadata": {
    "collapsed": false,
    "ExecuteTime": {
     "start_time": "2023-12-06T13:38:27.857173Z",
     "end_time": "2023-12-06T13:38:28.165540Z"
    }
   }
  },
  {
   "cell_type": "code",
   "execution_count": 2,
   "outputs": [],
   "source": [
    "from src.ifc_to_nx_converter import IfcToNxConverter\n",
    "node_attributes = IfcToNxConverter.node_attributes"
   ],
   "metadata": {
    "collapsed": false,
    "ExecuteTime": {
     "start_time": "2023-12-06T13:38:30.622000Z",
     "end_time": "2023-12-06T13:38:31.341053Z"
    }
   }
  },
  {
   "cell_type": "code",
   "execution_count": 7,
   "outputs": [
    {
     "data": {
      "text/plain": "'C:\\\\Users\\\\naumo\\\\PycharmProjects\\\\IFC_test\\\\notebooks'"
     },
     "execution_count": 7,
     "metadata": {},
     "output_type": "execute_result"
    }
   ],
   "source": [
    "os.getcwd()"
   ],
   "metadata": {
    "collapsed": false,
    "ExecuteTime": {
     "start_time": "2023-12-05T11:40:07.033574Z",
     "end_time": "2023-12-05T11:40:07.070379Z"
    }
   }
  },
  {
   "cell_type": "code",
   "execution_count": 3,
   "outputs": [],
   "source": [
    "model = ifcopenshell.open('../Amundsena_IFC_24/DOU_510_KJ1.ifc')"
   ],
   "metadata": {
    "collapsed": false,
    "ExecuteTime": {
     "start_time": "2023-12-06T13:38:36.008891Z",
     "end_time": "2023-12-06T13:38:36.015895Z"
    }
   }
  },
  {
   "cell_type": "code",
   "execution_count": 8,
   "outputs": [
    {
     "data": {
      "text/plain": "{'IfcBuildingElementProxyType',\n 'IfcColumnType',\n 'IfcSlabType',\n 'IfcStairType',\n 'IfcWallType'}"
     },
     "execution_count": 8,
     "metadata": {},
     "output_type": "execute_result"
    }
   ],
   "source": [
    "{i.is_a() for i in model.by_type(\"IfcTypeObject\")}"
   ],
   "metadata": {
    "collapsed": false
   }
  },
  {
   "cell_type": "code",
   "execution_count": 9,
   "outputs": [],
   "source": [
    "building = model.by_type(\"IfcBuilding\")[0]"
   ],
   "metadata": {
    "collapsed": false,
    "ExecuteTime": {
     "start_time": "2023-12-06T13:43:48.110207Z",
     "end_time": "2023-12-06T13:43:48.141456Z"
    }
   }
  },
  {
   "cell_type": "code",
   "execution_count": 13,
   "outputs": [
    {
     "data": {
      "text/plain": "int"
     },
     "execution_count": 13,
     "metadata": {},
     "output_type": "execute_result"
    }
   ],
   "source": [
    "type(building.id())"
   ],
   "metadata": {
    "collapsed": false,
    "ExecuteTime": {
     "start_time": "2023-12-06T17:22:11.932781Z",
     "end_time": "2023-12-06T17:22:11.983520Z"
    }
   }
  },
  {
   "cell_type": "code",
   "execution_count": 4,
   "outputs": [],
   "source": [
    "def _filter_ifc(element) -> bool:\n",
    "    return (\n",
    "            element.is_a(\"IfcElement\")\n",
    "            or element.is_a(\"IfcSpatialStructureElement\")\n",
    "            or element.is_a(\"IfcObjectDefinition\")\n",
    "    ) and not (element.is_a(\"IfcGrid\") or element.is_a(\"IfcAnnotation\"))"
   ],
   "metadata": {
    "collapsed": false,
    "ExecuteTime": {
     "start_time": "2023-12-06T13:39:25.593020Z",
     "end_time": "2023-12-06T13:39:25.624267Z"
    }
   }
  },
  {
   "cell_type": "code",
   "execution_count": 6,
   "outputs": [],
   "source": [
    "def get_all_children(element):\n",
    "    all_children = set()\n",
    "\n",
    "    # Используем связь element.ContainsElements\n",
    "    # if hasattr(element, \"ContainsElements\"):\n",
    "    if element.is_a('IfcSpatialStructureElement'):\n",
    "        for rel in element.ContainsElements:\n",
    "            if rel.is_a(\"IfcRelContainedInSpatialStructure\"):\n",
    "                all_children.update(rel.RelatedElements)\n",
    "\n",
    "    # Используем связь element.IsDecomposedBy\n",
    "    # if hasattr(element, \"IsDecomposedBy\"):\n",
    "    if element.is_a('IfcObjectDefinition'):\n",
    "        for rel in element.IsDecomposedBy:\n",
    "            if rel.is_a(\"IfcRelAggregates\"):\n",
    "                all_children.update(rel.RelatedObjects)\n",
    "\n",
    "    return list(filter(lambda el: _filter_ifc(el), all_children))"
   ],
   "metadata": {
    "collapsed": false,
    "ExecuteTime": {
     "start_time": "2023-12-06T13:43:16.763726Z",
     "end_time": "2023-12-06T13:43:16.794977Z"
    }
   }
  },
  {
   "cell_type": "code",
   "execution_count": 10,
   "outputs": [],
   "source": [
    "children = get_all_children(building)"
   ],
   "metadata": {
    "collapsed": false,
    "ExecuteTime": {
     "start_time": "2023-12-06T13:43:51.329930Z",
     "end_time": "2023-12-06T13:43:51.345568Z"
    }
   }
  },
  {
   "cell_type": "code",
   "execution_count": 12,
   "outputs": [
    {
     "name": "stdout",
     "output_type": "stream",
     "text": [
      "Площадка 1-2\n",
      "Площадка 2-3\n",
      "низ металл\n",
      "Плита Пм 2 на отм. +7.100. Опалубка\n",
      "Этаж 1\n"
     ]
    }
   ],
   "source": [
    "for i in children:\n",
    "    print(node_attributes(i)[\"name\"])"
   ],
   "metadata": {
    "collapsed": false,
    "ExecuteTime": {
     "start_time": "2023-12-06T17:21:54.924020Z",
     "end_time": "2023-12-06T17:21:54.939612Z"
    }
   }
  },
  {
   "cell_type": "code",
   "execution_count": 32,
   "outputs": [
    {
     "name": "stdout",
     "output_type": "stream",
     "text": [
      "Перекрытие:КЖ0_Перекрытие:430323\n",
      "Базовая стена:Монолит-200 1 эт.:441463\n",
      "Базовая стена:Монолит-200 1 эт.:441467\n",
      "Базовая стена:Монолит-200 1 эт.:441471\n",
      "Базовая стена:Монолит-200 1 эт.:441475\n",
      "Базовая стена:Монолит-200 1 эт.:441484\n",
      "Базовая стена:Монолит-200 1 эт.:441488\n",
      "Базовая стена:Монолит-200 1 эт.:441492\n",
      "Базовая стена:Монолит-200 1 эт.:441496\n",
      "Базовая стена:Монолит-200 1 эт.:441500\n",
      "Базовая стена:Монолит-200 1 эт.:441504\n",
      "Базовая стена:Монолит-200 1 эт.:441508\n",
      "Базовая стена:Монолит-200 1 эт.:441512\n",
      "Базовая стена:Монолит-200 1 эт.:441516\n",
      "Базовая стена:Монолит-200 1 эт.:441550\n",
      "Базовая стена:Монолит-200 1 эт.:441554\n",
      "Базовая стена:Монолит-200 1 эт.:441563\n",
      "Базовая стена:Монолит-200 1 эт.:441567\n",
      "Базовая стена:Монолит-200 1 эт.:441571\n",
      "Базовая стена:Монолит-250 1 этаж:441579\n",
      "Базовая стена:Монолит-200 1 эт.:441583\n",
      "Базовая стена:Монолит-250 1 этаж:441587\n",
      "Базовая стена:Монолит-200 1 эт.:441591\n",
      "Базовая стена:Монолит-200 1 эт.:441595\n",
      "Базовая стена:Монолит-200 1 эт.:441599\n",
      "Базовая стена:Монолит-200 1 эт.:441607\n",
      "Базовая стена:Монолит-200 1 эт.:441611\n",
      "Базовая стена:Монолит-200 1 эт.:441615\n",
      "Базовая стена:Монолит-200 1 эт.:441619\n",
      "Базовая стена:Монолит-200 1 эт.:441623\n",
      "Базовая стена:Монолит-200 1 эт.:441627\n",
      "Базовая стена:Монолит-200 1 эт.:441631\n",
      "Базовая стена:Монолит-200 1 эт.:441635\n",
      "Базовая стена:Монолит-200 1 эт.:441639\n",
      "Базовая стена:Монолит-200 1 эт.:441643\n",
      "Базовая стена:Монолит-200 1 эт.:441647\n",
      "Базовая стена:Монолит-200 1 эт.:441651\n",
      "Базовая стена:Монолит-200 1 эт.:441655\n",
      "Базовая стена:Монолит-200 1 эт.:441659\n",
      "Базовая стена:Монолит-200 1 эт.:441663\n",
      "Базовая стена:Монолит-200 1 эт.:441667\n",
      "Базовая стена:Монолит-200 1 эт.:441671\n",
      "Базовая стена:Монолит-200 1 эт.:441775\n",
      "Базовая стена:Монолит-200 1 эт.:441779\n",
      "Базовая стена:Монолит-200 1 эт.:441858\n",
      "Базовая стена:Монолит-200 1 эт.:441862\n",
      "Базовая стена:Монолит-200 1 эт.:441899\n",
      "Базовая стена:Монолит-200 1 эт.:441903\n",
      "Базовая стена:Монолит-200 1 эт.:441930\n",
      "Базовая стена:Монолит-200 1 эт.:441961\n",
      "ADSK_КолоннаНесущая_Бетон_Прямоугольная:400x400 мм:441980\n",
      "ADSK_КолоннаНесущая_Бетон_Прямоугольная:400x400 мм:442082\n",
      "Базовая стена:Монолит-200 1 эт.:442601\n",
      "Базовая стена:Монолит-200 1 эт.:442602\n",
      "Базовая стена:Монолит-200 1 эт.:442603\n",
      "Базовая стена:Монолит-200 1 эт.:442604\n",
      "Базовая стена:Монолит-250 1 этаж:445092\n",
      "Базовая стена:Монолит-250 1 этаж:445096\n",
      "Базовая стена:Монолит-250 1 этаж:445100\n",
      "Базовая стена:Монолит-200 1 эт.:445104\n",
      "Базовая стена:Монолит-250 1 этаж:445141\n",
      "Базовая стена:Монолит-250 1 этаж:445145\n",
      "Базовая стена:Монолит-250 1 этаж:445153\n",
      "Базовая стена:Монолит-250 1 этаж:445157\n",
      "Базовая стена:Монолит-250 1 этаж:445161\n",
      "Базовая стена:Монолит-250 1 этаж:445165\n",
      "Базовая стена:Монолит-250 1 этаж:445169\n",
      "Базовая стена:Монолит-250 1 этаж:445173\n",
      "Базовая стена:Монолит-250 1 этаж:445177\n",
      "Базовая стена:Монолит-250 1 этаж:445181\n",
      "Базовая стена:Монолит-250 1 этаж:445185\n",
      "Базовая стена:Монолит-250 1 этаж:445189\n",
      "Базовая стена:Монолит-250 1 этаж:445193\n",
      "Базовая стена:Монолит-250 1 этаж:445197\n",
      "Базовая стена:Монолит-250 1 этаж:445201\n",
      "Базовая стена:Монолит-250 1 этаж:445205\n",
      "Базовая стена:Монолит-250 1 этаж:445209\n",
      "Базовая стена:Монолит-250 1 этаж:445213\n",
      "Базовая стена:Монолит-250 1 этаж:445217\n",
      "Базовая стена:Монолит-250 1 этаж:445221\n",
      "Базовая стена:Монолит-250 1 этаж:445225\n",
      "Базовая стена:Монолит-250 1 этаж:445229\n",
      "Базовая стена:Монолит-250 1 этаж:445233\n",
      "Базовая стена:Монолит-250 1 этаж:445237\n",
      "Базовая стена:Монолит-250 1 этаж:445241\n",
      "Базовая стена:Монолит-250 1 этаж:445245\n",
      "Базовая стена:Монолит-250 1 этаж:445249\n",
      "Базовая стена:Монолит-250 1 этаж:445253\n",
      "Базовая стена:Монолит-250 1 этаж:445257\n",
      "Базовая стена:Монолит-250 1 этаж:445261\n",
      "Базовая стена:Монолит-250 1 этаж:445265\n",
      "Базовая стена:Монолит-250 1 этаж:445269\n",
      "Базовая стена:Монолит-250 1 этаж:445273\n",
      "Базовая стена:Монолит-250 1 этаж:445277\n",
      "Базовая стена:Монолит-250 1 этаж:445281\n",
      "Базовая стена:Монолит-250 1 этаж:445285\n",
      "Базовая стена:Монолит-200 1 эт.:445668\n",
      "Базовая стена:Монолит-200 1 эт.:445669\n",
      "Базовая стена:Монолит-200 1 эт.:445670\n",
      "Базовая стена:Монолит-200 1 эт.:445671\n",
      "Базовая стена:Монолит-200 1 эт.:446010\n",
      "Базовая стена:Монолит-200 1 эт.:446041\n",
      "Базовая стена:Монолит-200 1 эт.:446075\n",
      "Базовая стена:Монолит-200 1 эт.:446100\n",
      "Базовая стена:Монолит-200 1 эт.:446143\n",
      "Базовая стена:Монолит-200 1 эт.:446169\n",
      "Базовая стена:Монолит-200 1 эт.:446226\n",
      "Базовая стена:Монолит-200 1 эт.:446270\n",
      "Базовая стена:Монолит-200 1 эт.:446302\n",
      "Базовая стена:Монолит-200 1 эт.:446376\n",
      "Базовая стена:Монолит-200 1 эт.:446377\n",
      "Базовая стена:Монолит-200 1 эт.:446378\n",
      "Базовая стена:Монолит-200 1 эт.:446379\n",
      "Базовая стена:Монолит-200 1 эт.:447027\n",
      "Базовая стена:Монолит-200 1 эт.:447931\n",
      "Базовая стена:Монолит-200 1 эт.:447956\n",
      "Базовая стена:Монолит-200 1 эт.:447986\n",
      "Базовая стена:Монолит-200 1 эт.:448020\n",
      "Базовая стена:Монолит-200 1 эт.:448048\n",
      "Базовая стена:Монолит-200 1 эт.:448087\n",
      "Базовая стена:Монолит-250 1 этаж:484813\n",
      "ЛМ1:ЛМ1:503885\n",
      "ЛМ2:ЛМ2:505401\n",
      "ЛМ19:ЛМ1:544422\n",
      "ЛМ20:ЛМ2:544446\n",
      "ЛМ25:ЛМ1:549700\n",
      "ЛМ26:ЛМ2:549724\n",
      "Базовая стена:Монолит-200 1 эт.:569723\n",
      "Базовая стена:Монолит-200 1 эт.:773855\n",
      "Базовая стена:Монолит-250 1 этаж:946195\n",
      "Базовая стена:Монолит-200 1 эт.:1025526\n",
      "Перекрытие:КЖ0_Перекрытие:1262840\n",
      "Перекрытие:КЖ0_Перекрытие:1275162\n",
      "ЛМ29:ЛМ1:1287331\n",
      "ЛМ30:ЛМ2:1287355\n",
      "ЛМ37:ЛМ1:1287470\n",
      "ЛМ38:ЛМ2:1287494\n"
     ]
    }
   ],
   "source": [
    "stor = children[0]\n",
    "for i in get_all_children(stor):\n",
    "    print(node_attributes(i)[\"name\"])"
   ],
   "metadata": {
    "collapsed": false,
    "ExecuteTime": {
     "start_time": "2023-12-05T11:51:55.497127Z",
     "end_time": "2023-12-05T11:51:55.749750Z"
    }
   }
  },
  {
   "cell_type": "code",
   "execution_count": 35,
   "outputs": [
    {
     "data": {
      "text/plain": "{'Pset_BuildingCommon': {'Reference': 'Сведения о проекте',\n  'NumberOfStoreys': 12,\n  'IsLandmarked': 'UNKNOWN',\n  'id': 23439},\n 'Pset_BuildingElementProxyCommon': {'Reference': 'Сведения о проекте',\n  'IsExternal': False,\n  'id': 23440},\n 'Pset_BuildingStoreyCommon': {'Reference': 'Сведения о проекте',\n  'AboveGround': 'UNKNOWN',\n  'id': 23441},\n 'Pset_BuildingSystemCommon': {'Reference': 'Сведения о проекте', 'id': 23442}}"
     },
     "execution_count": 35,
     "metadata": {},
     "output_type": "execute_result"
    }
   ],
   "source": [
    "psets = ifcopenshell.util.element.get_psets(building, psets_only=True)\n",
    "psets"
   ],
   "metadata": {
    "collapsed": false,
    "ExecuteTime": {
     "start_time": "2023-12-05T12:04:28.315713Z",
     "end_time": "2023-12-05T12:04:28.347417Z"
    }
   }
  },
  {
   "cell_type": "code",
   "execution_count": 34,
   "outputs": [
    {
     "data": {
      "text/plain": "dict_keys(['Pset_BuildingStoreyCommon'])"
     },
     "execution_count": 34,
     "metadata": {},
     "output_type": "execute_result"
    }
   ],
   "source": [
    "psets = ifcopenshell.util.element.get_psets(stor, psets_only=True)\n",
    "psets.keys()"
   ],
   "metadata": {
    "collapsed": false,
    "ExecuteTime": {
     "start_time": "2023-12-05T12:04:20.191003Z",
     "end_time": "2023-12-05T12:04:20.252530Z"
    }
   }
  },
  {
   "cell_type": "code",
   "execution_count": 36,
   "outputs": [
    {
     "data": {
      "text/plain": "dict_keys(['Pset_SlabCommon', 'Pset_EnvironmentalImpactIndicators', 'Pset_ReinforcementBarPitchOfSlab', 'ADCM'])"
     },
     "execution_count": 36,
     "metadata": {},
     "output_type": "execute_result"
    }
   ],
   "source": [
    "elem = get_all_children(stor)[0]\n",
    "psets = ifcopenshell.util.element.get_psets(elem, psets_only=True)\n",
    "psets.keys()"
   ],
   "metadata": {
    "collapsed": false,
    "ExecuteTime": {
     "start_time": "2023-12-05T12:05:26.074676Z",
     "end_time": "2023-12-05T12:05:26.094829Z"
    }
   }
  },
  {
   "cell_type": "code",
   "execution_count": 37,
   "outputs": [
    {
     "data": {
      "text/plain": "{'ADCM_RD': 'КЖ1',\n 'ADCM_GESN': '06-01-041-01',\n 'ADCM_Level': 'L01',\n 'ADCM_Part': '1',\n 'ADCM_Title': 'АИ-11 О/22',\n 'id': 243}"
     },
     "execution_count": 37,
     "metadata": {},
     "output_type": "execute_result"
    }
   ],
   "source": [
    "psets[\"ADCM\"]"
   ],
   "metadata": {
    "collapsed": false,
    "ExecuteTime": {
     "start_time": "2023-12-05T12:05:52.292101Z",
     "end_time": "2023-12-05T12:05:52.307730Z"
    }
   }
  },
  {
   "cell_type": "code",
   "execution_count": 38,
   "outputs": [
    {
     "data": {
      "text/plain": "(227, 'Перекрытие:КЖ0_Перекрытие:430323')"
     },
     "execution_count": 38,
     "metadata": {},
     "output_type": "execute_result"
    }
   ],
   "source": [
    "elem.id(), elem.Name"
   ],
   "metadata": {
    "collapsed": false,
    "ExecuteTime": {
     "start_time": "2023-12-05T12:06:13.732104Z",
     "end_time": "2023-12-05T12:06:13.801133Z"
    }
   }
  },
  {
   "cell_type": "code",
   "execution_count": 39,
   "outputs": [
    {
     "data": {
      "text/plain": "{'Pset_SlabCommon': {'IsExternal': False,\n  'ThermalTransmittance': 4.754545454545455,\n  'id': 237,\n  'Reference': 'Перекрытие:КЖ0_Перекрытие',\n  'PitchAngle': 0.0,\n  'LoadBearing': True},\n 'Pset_EnvironmentalImpactIndicators': {'Reference': 'Перекрытие:КЖ0_Перекрытие',\n  'id': 231},\n 'Pset_ReinforcementBarPitchOfSlab': {'Reference': 'Перекрытие:КЖ0_Перекрытие',\n  'id': 233},\n 'ADCM': {'ADCM_RD': 'КЖ1',\n  'ADCM_GESN': '06-01-041-01',\n  'ADCM_Level': 'L01',\n  'ADCM_Part': '1',\n  'ADCM_Title': 'АИ-11 О/22',\n  'id': 243}}"
     },
     "execution_count": 39,
     "metadata": {},
     "output_type": "execute_result"
    }
   ],
   "source": [
    "psets"
   ],
   "metadata": {
    "collapsed": false,
    "ExecuteTime": {
     "start_time": "2023-12-05T12:06:57.505496Z",
     "end_time": "2023-12-05T12:06:57.542806Z"
    }
   }
  }
 ],
 "metadata": {
  "kernelspec": {
   "display_name": "Python 3 (ipykernel)",
   "language": "python",
   "name": "python3"
  },
  "language_info": {
   "codemirror_mode": {
    "name": "ipython",
    "version": 3
   },
   "file_extension": ".py",
   "mimetype": "text/x-python",
   "name": "python",
   "nbconvert_exporter": "python",
   "pygments_lexer": "ipython3",
   "version": "3.9.5"
  }
 },
 "nbformat": 4,
 "nbformat_minor": 1
}
