{
 "cells": [
  {
   "cell_type": "code",
   "execution_count": 4,
   "metadata": {
    "collapsed": true,
    "ExecuteTime": {
     "start_time": "2023-11-27T14:02:57.509038Z",
     "end_time": "2023-11-27T14:02:57.809701Z"
    }
   },
   "outputs": [],
   "source": [
    "import os\n",
    "\n",
    "import ifcopenshell\n",
    "from ifcopenshell.util.element import get_psets"
   ]
  },
  {
   "cell_type": "code",
   "execution_count": 5,
   "outputs": [
    {
     "data": {
      "text/plain": "'C:\\\\Users\\\\naumo\\\\PycharmProjects\\\\IFC_test\\\\notebooks'"
     },
     "execution_count": 5,
     "metadata": {},
     "output_type": "execute_result"
    }
   ],
   "source": [
    "os.getcwd()"
   ],
   "metadata": {
    "collapsed": false,
    "ExecuteTime": {
     "start_time": "2023-11-27T14:03:00.963877Z",
     "end_time": "2023-11-27T14:03:01.026392Z"
    }
   }
  },
  {
   "cell_type": "code",
   "execution_count": 41,
   "outputs": [
    {
     "data": {
      "text/plain": "{'06-01-001-16': 'Устройство фундаментных плит железобетонных плоских',\n '06-01-024-03': 'Устройство стен подвалов и подпорных стен железобетонных высотой до 3 м, толщиной до 300 мм',\n '06-01-041-01': 'Устройство перекрытий безбалочных толщиной до 200 мм на высоте от опорной площади до 6 м',\n '06-01-031-03': 'Устройство железобетонных стен и перегородок высотой до 3 м, толщиной 200 мм',\n '09-03-014-01': 'Монтаж связей и распорок из одиночных и парных уголков, гнутосварных профилей для пролетов до 24 м при высоте здания до 25 м',\n '09-03-015-01': 'Монтаж прогонов при шаге ферм до 12 м при высоте здания до 25 м',\n '09-03-012-01': 'Монтаж стропильных и подстропильных ферм на высоте до 25 м пролетом до 24 м массой до 3,0 т'}"
     },
     "execution_count": 41,
     "metadata": {},
     "output_type": "execute_result"
    }
   ],
   "source": [
    "import pandas as pd\n",
    "\n",
    "df = pd.read_excel(\n",
    "    \"../src/02-01-01 _Конструктивные решения_ .xls\",\n",
    "    index_col=0,\n",
    "    header=None,\n",
    "    names=[\"GESN\", \"name\"]\n",
    ").dropna()\n",
    "df.index = df.index.str[1:]\n",
    "# df.index = df.index.str.upper()\n",
    "df.name.to_dict()"
   ],
   "metadata": {
    "collapsed": false,
    "ExecuteTime": {
     "start_time": "2023-11-27T17:18:52.940751Z",
     "end_time": "2023-11-27T17:18:52.991201Z"
    }
   }
  },
  {
   "cell_type": "code",
   "execution_count": 36,
   "outputs": [
    {
     "data": {
      "text/plain": "<pandas.core.strings.accessor.StringMethods at 0x2369dc7b340>"
     },
     "execution_count": 36,
     "metadata": {},
     "output_type": "execute_result"
    }
   ],
   "source": [
    "df.index.str"
   ],
   "metadata": {
    "collapsed": false,
    "ExecuteTime": {
     "start_time": "2023-11-27T17:15:48.652699Z",
     "end_time": "2023-11-27T17:15:48.673082Z"
    }
   }
  },
  {
   "cell_type": "code",
   "execution_count": 7,
   "outputs": [],
   "source": [
    "import pickle\n",
    "G = pickle.load(open('../src/new_AR.pickle', 'rb'))"
   ],
   "metadata": {
    "collapsed": false,
    "ExecuteTime": {
     "start_time": "2023-10-29T22:39:46.879635Z",
     "end_time": "2023-10-29T22:39:48.863603Z"
    }
   }
  },
  {
   "cell_type": "code",
   "execution_count": 7,
   "outputs": [],
   "source": [
    "model = ifcopenshell.open('../Amundsena_IFC_24/DOU_510_KJ0.ifc')"
   ],
   "metadata": {
    "collapsed": false,
    "ExecuteTime": {
     "start_time": "2023-11-27T14:06:52.249757Z",
     "end_time": "2023-11-27T14:06:52.310718Z"
    }
   }
  },
  {
   "cell_type": "code",
   "execution_count": 16,
   "outputs": [
    {
     "data": {
      "text/plain": "136"
     },
     "execution_count": 16,
     "metadata": {},
     "output_type": "execute_result"
    }
   ],
   "source": [
    "elements = list(model.by_type(\"IfcProduct\"))\n",
    "len(elements)"
   ],
   "metadata": {
    "collapsed": false,
    "ExecuteTime": {
     "start_time": "2023-11-27T14:52:30.112536Z",
     "end_time": "2023-11-27T14:52:30.128178Z"
    }
   }
  },
  {
   "cell_type": "code",
   "execution_count": 17,
   "outputs": [
    {
     "data": {
      "text/plain": "2"
     },
     "execution_count": 17,
     "metadata": {},
     "output_type": "execute_result"
    }
   ],
   "source": [
    "len(model.by_type(\"IfcBuildingStorey\"))"
   ],
   "metadata": {
    "collapsed": false,
    "ExecuteTime": {
     "start_time": "2023-11-27T14:59:53.004112Z",
     "end_time": "2023-11-27T14:59:53.046527Z"
    }
   }
  },
  {
   "cell_type": "code",
   "execution_count": 14,
   "outputs": [
    {
     "data": {
      "text/plain": "{'IfcColumnType',\n 'IfcFootingType',\n 'IfcSlabType',\n 'IfcStairFlightType',\n 'IfcStairType',\n 'IfcWallType'}"
     },
     "execution_count": 14,
     "metadata": {},
     "output_type": "execute_result"
    }
   ],
   "source": [
    "{i.is_a() for i in model.by_type(\"IfcTypeObject\")}"
   ],
   "metadata": {
    "collapsed": false,
    "ExecuteTime": {
     "start_time": "2023-11-27T14:14:12.138695Z",
     "end_time": "2023-11-27T14:14:12.154327Z"
    }
   }
  },
  {
   "cell_type": "code",
   "execution_count": 12,
   "outputs": [],
   "source": [
    "from src.ifc_to_nx_converter import IfcToNxConverter\n",
    "node_attributes = IfcToNxConverter.node_attributes"
   ],
   "metadata": {
    "collapsed": false,
    "ExecuteTime": {
     "start_time": "2023-11-27T14:09:38.569608Z",
     "end_time": "2023-11-27T14:09:38.986744Z"
    }
   }
  },
  {
   "cell_type": "code",
   "execution_count": 13,
   "outputs": [
    {
     "data": {
      "text/plain": "{'global_id': '212dsrGFn9lPwyKNEXCovJ',\n 'name': 'Базовая стена:Монолиный жб - 200мм:418939',\n 'is_a': 'IfcWall',\n 'group_type': 'Базовая стена:Монолиный жб - 200мм',\n 'ADCM_RD': 'КЖ1',\n 'ADCM_GESN': '06-01-024-03',\n 'ADCM_Level': 'L-01',\n 'ADCM_Part': '3',\n 'ADCM_Title': 'АИ-11 О/22',\n 'ADCM_DIN': None,\n 'ADCM_JobType': None,\n 'Elevation': None,\n 'coordinates': (62480.27619762918, -15.0, -100.0)}"
     },
     "execution_count": 13,
     "metadata": {},
     "output_type": "execute_result"
    }
   ],
   "source": [
    "walls = model.by_type(\"IfcWall\")\n",
    "props = node_attributes(walls[0])\n",
    "props"
   ],
   "metadata": {
    "collapsed": false,
    "ExecuteTime": {
     "start_time": "2023-11-27T14:11:00.203578Z",
     "end_time": "2023-11-27T14:11:00.234816Z"
    }
   }
  },
  {
   "cell_type": "code",
   "execution_count": 19,
   "outputs": [
    {
     "data": {
      "text/plain": "(True, True)"
     },
     "execution_count": 19,
     "metadata": {},
     "output_type": "execute_result"
    }
   ],
   "source": [
    "walls[0].is_a(\"IfcProduct\"), walls[0].is_a(\"IfcObject\")"
   ],
   "metadata": {
    "collapsed": false,
    "ExecuteTime": {
     "start_time": "2023-11-27T16:40:04.811498Z",
     "end_time": "2023-11-27T16:40:04.825021Z"
    }
   }
  },
  {
   "cell_type": "code",
   "execution_count": 25,
   "outputs": [],
   "source": [
    "from neo4j import GraphDatabase\n",
    "\n",
    "group_driver = GraphDatabase.driver(\n",
    "    \"bolt://localhost:7688\",\n",
    "    auth=(\"neo4j\", \"23109900\")\n",
    ")"
   ],
   "metadata": {
    "collapsed": false,
    "ExecuteTime": {
     "start_time": "2023-10-31T13:36:11.947580Z",
     "end_time": "2023-10-31T13:36:15.084907Z"
    }
   }
  },
  {
   "cell_type": "code",
   "execution_count": 28,
   "outputs": [
    {
     "name": "stdout",
     "output_type": "stream",
     "text": [
      "None\n"
     ]
    }
   ],
   "source": [
    "print(group_driver.verify_connectivity())"
   ],
   "metadata": {
    "collapsed": false,
    "ExecuteTime": {
     "start_time": "2023-10-31T13:41:56.473967Z",
     "end_time": "2023-10-31T13:41:56.505221Z"
    }
   }
  },
  {
   "cell_type": "code",
   "execution_count": 30,
   "outputs": [
    {
     "data": {
      "text/plain": "EagerResult(records=[], summary=<neo4j._work.summary.ResultSummary object at 0x0000029542B292D0>, keys=[])"
     },
     "execution_count": 30,
     "metadata": {},
     "output_type": "execute_result"
    }
   ],
   "source": [
    "q = \"\"\"\n",
    "CREATE (n:Element)\n",
    "SET n = $props\n",
    "\"\"\"\n",
    "group_driver.execute_query(q, props=props)"
   ],
   "metadata": {
    "collapsed": false,
    "ExecuteTime": {
     "start_time": "2023-10-31T14:13:14.288725Z",
     "end_time": "2023-10-31T14:13:14.328956Z"
    }
   }
  },
  {
   "cell_type": "code",
   "execution_count": null,
   "outputs": [],
   "source": [
    "{'ADCM_RD': 'AS',\n",
    " 'ADCM_JobType': 'STP', #wbs3\n",
    " 'ADCM_DIN': '342', # wbs3_id\n",
    " 'ADCM_Level': 'L01', # wbs2\n",
    " 'ADCM_Title': '01p', # wbs1\n",
    " 'id': 849}"
   ],
   "metadata": {
    "collapsed": false
   }
  },
  {
   "cell_type": "code",
   "execution_count": 12,
   "outputs": [
    {
     "data": {
      "text/plain": "dict_keys(['Pset_WallCommon', 'Pset_EnvironmentalImpactIndicators', 'Pset_ReinforcementBarPitchOfWall', 'ADCM'])"
     },
     "execution_count": 12,
     "metadata": {},
     "output_type": "execute_result"
    }
   ],
   "source": [
    "ifcopenshell.util.element.get_psets(element, psets_only=True).keys()"
   ],
   "metadata": {
    "collapsed": false,
    "ExecuteTime": {
     "start_time": "2023-10-28T19:19:19.827038Z",
     "end_time": "2023-10-28T19:19:19.858281Z"
    }
   }
  },
  {
   "cell_type": "code",
   "execution_count": 13,
   "outputs": [
    {
     "data": {
      "text/plain": "dict_keys(['Pset_WallCommon', 'Qto_WallBaseQuantities', 'Pset_EnvironmentalImpactIndicators', 'Pset_ReinforcementBarPitchOfWall', 'ADCM'])"
     },
     "execution_count": 13,
     "metadata": {},
     "output_type": "execute_result"
    }
   ],
   "source": [
    "ifcopenshell.util.element.get_psets(element).keys()"
   ],
   "metadata": {
    "collapsed": false,
    "ExecuteTime": {
     "start_time": "2023-10-28T19:19:22.392711Z",
     "end_time": "2023-10-28T19:19:22.420782Z"
    }
   }
  },
  {
   "cell_type": "code",
   "execution_count": 62,
   "outputs": [
    {
     "data": {
      "text/plain": "{'id': 1199227,\n 'type': 'IfcLocalPlacement',\n 'PlacementRelTo': #1199222=IfcLocalPlacement(#334001,#1199221),\n 'RelativePlacement': #1199226=IfcAxis2Placement3D(#3,$,$)}"
     },
     "execution_count": 62,
     "metadata": {},
     "output_type": "execute_result"
    }
   ],
   "source": [
    "placement = door.ObjectPlacement\n",
    "placement.get_info()\n",
    "relative_placement = placement.RelativePlacement\n",
    "relative_placement.get_info()\n",
    "location = relative_placement.Location\n",
    "location"
   ],
   "metadata": {
    "collapsed": false
   }
  },
  {
   "cell_type": "code",
   "execution_count": 13,
   "outputs": [
    {
     "data": {
      "text/plain": "-5000.0"
     },
     "execution_count": 13,
     "metadata": {},
     "output_type": "execute_result"
    }
   ],
   "source": [
    "storeys = model.by_type(\"IfcBuildingStorey\")\n",
    "storeys[0].Elevation"
   ],
   "metadata": {
    "collapsed": false,
    "ExecuteTime": {
     "start_time": "2023-11-17T12:17:11.207715Z",
     "end_time": "2023-11-17T12:17:11.238962Z"
    }
   }
  },
  {
   "cell_type": "code",
   "execution_count": 17,
   "outputs": [
    {
     "data": {
      "text/plain": "{'Pset_BuildingStoreyCommon': {'Reference': 'Уровень:С обозначением имени уровня',\n  'AboveGround': 'UNKNOWN',\n  'id': 350501}}"
     },
     "execution_count": 17,
     "metadata": {},
     "output_type": "execute_result"
    }
   ],
   "source": [
    "get_psets(storeys[0], psets_only=True)"
   ],
   "metadata": {
    "collapsed": false,
    "ExecuteTime": {
     "start_time": "2023-11-17T12:19:15.076729Z",
     "end_time": "2023-11-17T12:19:15.123611Z"
    }
   }
  },
  {
   "cell_type": "code",
   "execution_count": 14,
   "outputs": [
    {
     "data": {
      "text/plain": "{'id': 163,\n 'type': 'IfcBuildingStorey',\n 'GlobalId': '1oF2WbnqX8r9z94rbm$A8B',\n 'OwnerHistory': #42=IfcOwnerHistory(#39,#5,$,.NOCHANGE.,$,$,$,1698128164),\n 'Name': 'Техподполье',\n 'Description': None,\n 'ObjectType': 'Уровень:С обозначением имени уровня',\n 'ObjectPlacement': #162=IfcLocalPlacement(#33,#161),\n 'Representation': None,\n 'LongName': 'Техподполье',\n 'CompositionType': 'ELEMENT',\n 'Elevation': -5000.0}"
     },
     "execution_count": 14,
     "metadata": {},
     "output_type": "execute_result"
    }
   ],
   "source": [
    "storeys[0].get_info()"
   ],
   "metadata": {
    "collapsed": false,
    "ExecuteTime": {
     "start_time": "2023-11-17T12:17:33.965045Z",
     "end_time": "2023-11-17T12:17:34.031181Z"
    }
   }
  },
  {
   "cell_type": "code",
   "execution_count": 9,
   "outputs": [
    {
     "data": {
      "text/plain": "225"
     },
     "execution_count": 9,
     "metadata": {},
     "output_type": "execute_result"
    }
   ],
   "source": [
    "# doors = list(filter(lambda el: el.is_a(\"IfcDoor\"), storey.ContainsElements[0].RelatedElements))\n",
    "elements = list(storey.ContainsElements[0].RelatedElements)\n",
    "len(elements)"
   ],
   "metadata": {
    "collapsed": false,
    "ExecuteTime": {
     "start_time": "2023-10-26T09:43:40.654141Z",
     "end_time": "2023-10-26T09:43:40.696846Z"
    }
   }
  },
  {
   "cell_type": "code",
   "execution_count": 10,
   "outputs": [
    {
     "data": {
      "text/plain": "{'IfcBuildingElementProxy', 'IfcWall'}"
     },
     "execution_count": 10,
     "metadata": {},
     "output_type": "execute_result"
    }
   ],
   "source": [
    "types = set(el.is_a() for el in elements)\n",
    "types"
   ],
   "metadata": {
    "collapsed": false,
    "ExecuteTime": {
     "start_time": "2023-10-26T09:44:15.977359Z",
     "end_time": "2023-10-26T09:44:16.049103Z"
    }
   }
  },
  {
   "cell_type": "code",
   "execution_count": 34,
   "outputs": [
    {
     "data": {
      "text/plain": "(27819.99984492928, 19775.004971843486, 0.0)"
     },
     "execution_count": 34,
     "metadata": {},
     "output_type": "execute_result"
    }
   ],
   "source": [
    "get_coordinates(doors[0])"
   ],
   "metadata": {
    "collapsed": false,
    "ExecuteTime": {
     "start_time": "2023-10-03T15:31:40.181131Z",
     "end_time": "2023-10-03T15:31:40.204879Z"
    }
   }
  },
  {
   "cell_type": "code",
   "execution_count": 40,
   "outputs": [
    {
     "data": {
      "text/plain": "44"
     },
     "execution_count": 40,
     "metadata": {},
     "output_type": "execute_result"
    }
   ],
   "source": [
    "p_doors = list(filter(lambda x: get_coordinates(x) != (0.0, 0.0, 0.0), doors))\n",
    "len(p_doors)"
   ],
   "metadata": {
    "collapsed": false,
    "ExecuteTime": {
     "start_time": "2023-10-03T15:34:49.468483Z",
     "end_time": "2023-10-03T15:34:49.529470Z"
    }
   }
  },
  {
   "cell_type": "code",
   "execution_count": 41,
   "outputs": [
    {
     "data": {
      "text/plain": "(-1.0950316209346056e-09, 0.0, 0.0)"
     },
     "execution_count": 41,
     "metadata": {},
     "output_type": "execute_result"
    }
   ],
   "source": [
    "get_coordinates(p_doors[1])"
   ],
   "metadata": {
    "collapsed": false,
    "ExecuteTime": {
     "start_time": "2023-10-03T15:35:21.166410Z",
     "end_time": "2023-10-03T15:35:21.187771Z"
    }
   }
  },
  {
   "cell_type": "code",
   "execution_count": 43,
   "outputs": [
    {
     "data": {
      "text/plain": "(-250.0, 200.0, 0.0)"
     },
     "execution_count": 43,
     "metadata": {},
     "output_type": "execute_result"
    }
   ],
   "source": [
    "get_coordinates(p_doors[2])"
   ],
   "metadata": {
    "collapsed": false,
    "ExecuteTime": {
     "start_time": "2023-10-03T15:35:38.398667Z",
     "end_time": "2023-10-03T15:35:38.422696Z"
    }
   }
  },
  {
   "cell_type": "code",
   "execution_count": 44,
   "outputs": [
    {
     "data": {
      "text/plain": "(250.0, -200.0, 0.0)"
     },
     "execution_count": 44,
     "metadata": {},
     "output_type": "execute_result"
    }
   ],
   "source": [
    "get_coordinates(p_doors[3])"
   ],
   "metadata": {
    "collapsed": false,
    "ExecuteTime": {
     "start_time": "2023-10-03T15:35:50.611841Z",
     "end_time": "2023-10-03T15:35:50.633848Z"
    }
   }
  },
  {
   "cell_type": "code",
   "execution_count": 4,
   "outputs": [
    {
     "data": {
      "text/plain": "('IfcWall',\n 'IfcDoor',\n 'IfcSlab',\n 'IfcCovering',\n 'IfcBuildingElementProxy',\n 'IfcStair',\n 'IfcRailing',\n 'IfcSpace',\n 'IfcWindow',\n 'IfcCurtainWall')"
     },
     "execution_count": 4,
     "metadata": {},
     "output_type": "execute_result"
    }
   ],
   "source": [
    "classes = (\"IfcWall\",\n",
    "    \"IfcDoor\",\n",
    "    \"IfcSlab\",\n",
    "    \"IfcCovering\",\n",
    "    \"IfcBuildingElementProxy\",\n",
    "    \"IfcStair\",\n",
    "    \"IfcRailing\",\n",
    "    \"IfcSpace\",\n",
    "    # \"IfcBuildingStorey\",\n",
    "    \"IfcWindow\",\n",
    "    # \"IfcBuilding\",\n",
    "    \"IfcCurtainWall\")\n",
    "classes"
   ],
   "metadata": {
    "collapsed": false,
    "ExecuteTime": {
     "start_time": "2023-10-05T13:18:13.991200Z",
     "end_time": "2023-10-05T13:18:14.008185Z"
    }
   }
  },
  {
   "cell_type": "code",
   "execution_count": 9,
   "outputs": [
    {
     "name": "stdout",
     "output_type": "stream",
     "text": [
      "IfcWall True\n",
      "(14129.799844930327, 16000.004971844253, -100.0)\n",
      "\n",
      "IfcDoor True\n",
      "(27819.99984492928, 19775.004971843486, 0.0)\n",
      "\n",
      "IfcSlab True\n",
      "(0.0, 0.0, 0.0)\n",
      "\n",
      "IfcCovering True\n",
      "(0.0, 0.0, 0.0)\n",
      "\n",
      "IfcBuildingElementProxy True\n",
      "(66445.95098959892, 13990.0, 0.0)\n",
      "\n",
      "IfcStair True\n",
      "(0.0, 0.0, 0.0)\n",
      "\n",
      "IfcRailing True\n",
      "(15474.40472776368, 3663.0047277640956, -130.0)\n",
      "\n",
      "IfcSpace True\n",
      "(0.0, 0.0, 0.0)\n",
      "\n",
      "IfcWindow True\n",
      "(67297.49999999975, 147.49999999999963, 500.0)\n",
      "\n",
      "IfcCurtainWall True\n",
      "(0.0, 0.0, 0.0)\n",
      "\n"
     ]
    }
   ],
   "source": [
    "for i in classes:\n",
    "    el = model.by_type(i)[0]\n",
    "    print(i, hasattr(el, \"ObjectPlacement\"))\n",
    "    print(get_coordinates(el))\n",
    "    print()"
   ],
   "metadata": {
    "collapsed": false,
    "ExecuteTime": {
     "start_time": "2023-10-05T13:20:14.027556Z",
     "end_time": "2023-10-05T13:20:14.035552Z"
    }
   }
  },
  {
   "cell_type": "code",
   "execution_count": 15,
   "outputs": [
    {
     "data": {
      "text/plain": "{'id': 392059,\n 'type': 'IfcAxis2Placement3D',\n 'Location': #3=IfcCartesianPoint((0.,0.,0.)),\n 'Axis': None,\n 'RefDirection': None}"
     },
     "execution_count": 15,
     "metadata": {},
     "output_type": "execute_result"
    }
   ],
   "source": [
    "slab = model.by_type(\"IfcSlab\")[0]\n",
    "slab.ObjectPlacement.RelativePlacement.get_info()"
   ],
   "metadata": {
    "collapsed": false,
    "ExecuteTime": {
     "start_time": "2023-10-05T13:27:03.172792Z",
     "end_time": "2023-10-05T13:27:03.183772Z"
    }
   }
  },
  {
   "cell_type": "code",
   "execution_count": 17,
   "outputs": [
    {
     "data": {
      "text/plain": "False"
     },
     "execution_count": 17,
     "metadata": {},
     "output_type": "execute_result"
    }
   ],
   "source": [
    "bool(slab.ObjectPlacement.RelativePlacement.Axis)"
   ],
   "metadata": {
    "collapsed": false,
    "ExecuteTime": {
     "start_time": "2023-10-05T13:27:37.714660Z",
     "end_time": "2023-10-05T13:27:37.731658Z"
    }
   }
  },
  {
   "cell_type": "code",
   "execution_count": 23,
   "outputs": [
    {
     "ename": "NameError",
     "evalue": "name 'doors' is not defined",
     "output_type": "error",
     "traceback": [
      "\u001B[1;31m---------------------------------------------------------------------------\u001B[0m",
      "\u001B[1;31mNameError\u001B[0m                                 Traceback (most recent call last)",
      "Cell \u001B[1;32mIn[23], line 1\u001B[0m\n\u001B[1;32m----> 1\u001B[0m \u001B[43mdoors\u001B[49m\n",
      "\u001B[1;31mNameError\u001B[0m: name 'doors' is not defined"
     ]
    }
   ],
   "source": [
    "doors"
   ],
   "metadata": {
    "collapsed": false
   }
  }
 ],
 "metadata": {
  "kernelspec": {
   "display_name": "Python 3 (ipykernel)",
   "language": "python",
   "name": "python3"
  },
  "language_info": {
   "codemirror_mode": {
    "name": "ipython",
    "version": 3
   },
   "file_extension": ".py",
   "mimetype": "text/x-python",
   "name": "python",
   "nbconvert_exporter": "python",
   "pygments_lexer": "ipython3",
   "version": "3.9.5"
  }
 },
 "nbformat": 4,
 "nbformat_minor": 1
}
